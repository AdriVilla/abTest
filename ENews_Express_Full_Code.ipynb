{
  "cells": [
    {
      "cell_type": "markdown",
      "metadata": {
        "id": "view-in-github",
        "colab_type": "text"
      },
      "source": [
        "<a href=\"https://colab.research.google.com/github/AdriVilla/abTest/blob/main/ENews_Express_Full_Code.ipynb\" target=\"_parent\"><img src=\"https://colab.research.google.com/assets/colab-badge.svg\" alt=\"Open In Colab\"/></a>"
      ]
    },
    {
      "cell_type": "markdown",
      "id": "6yDxo9u0d9Na",
      "metadata": {
        "id": "6yDxo9u0d9Na"
      },
      "source": [
        "# Project Business Statistics: E-news Express\n",
        "\n",
        "**Marks: 60**"
      ]
    },
    {
      "cell_type": "markdown",
      "id": "SrLd-ICEmPSD",
      "metadata": {
        "id": "SrLd-ICEmPSD"
      },
      "source": [
        "## Define Problem Statement and Objectives"
      ]
    },
    {
      "cell_type": "markdown",
      "id": "411992b5",
      "metadata": {
        "id": "411992b5"
      },
      "source": [
        "Problem definition:\n",
        "\n",
        "A decline in new monthly subscribers compared to the last year because the current web page is not designed well enough in terms of the outline & recommended content, therefore,  potencial clients don't spend enough time in the page to make the decision to subscribe.\n",
        "\n",
        "Objective: Carry out an A/B testing by comparing the engagement of the old landing page with the new landing page.\n",
        "\n",
        "Questions to be answered:\n",
        "\n",
        "- Do the users spend more time on the new landing page than on the existing landing page?\n",
        "- Is the conversion rate for the new page greater than the conversion rate for the old page?\n",
        "- Does the converted status depend on the preferred language?\n",
        "- Is the time spent on the new page the same for the different language users?"
      ]
    },
    {
      "cell_type": "markdown",
      "id": "a6a3d218",
      "metadata": {
        "id": "a6a3d218"
      },
      "source": [
        "## Import all the necessary libraries"
      ]
    },
    {
      "cell_type": "code",
      "execution_count": null,
      "id": "658c5dec",
      "metadata": {
        "id": "658c5dec"
      },
      "outputs": [],
      "source": [
        "import pandas as pd #library used for data manipulation and analysis\n",
        "import numpy as np # library used for working with arrays.\n",
        "import matplotlib.pyplot as plt # library for plots and visualisations\n",
        "import seaborn as sns # library for visualisations\n",
        "%matplotlib inline \n",
        "\n",
        "import scipy.stats as stats"
      ]
    },
    {
      "cell_type": "markdown",
      "id": "6970dd99",
      "metadata": {
        "id": "6970dd99"
      },
      "source": [
        "## Reading the Data into a DataFrame"
      ]
    },
    {
      "cell_type": "code",
      "execution_count": null,
      "id": "d3b95640",
      "metadata": {
        "id": "d3b95640",
        "colab": {
          "base_uri": "https://localhost:8080/",
          "height": 73
        },
        "outputId": "92b64063-6719-4242-a93c-00427cd22e69"
      },
      "outputs": [
        {
          "output_type": "display_data",
          "data": {
            "text/plain": [
              "<IPython.core.display.HTML object>"
            ],
            "text/html": [
              "\n",
              "     <input type=\"file\" id=\"files-8b759267-4373-4b88-b850-0e8b851e3c92\" name=\"files[]\" multiple disabled\n",
              "        style=\"border:none\" />\n",
              "     <output id=\"result-8b759267-4373-4b88-b850-0e8b851e3c92\">\n",
              "      Upload widget is only available when the cell has been executed in the\n",
              "      current browser session. Please rerun this cell to enable.\n",
              "      </output>\n",
              "      <script>// Copyright 2017 Google LLC\n",
              "//\n",
              "// Licensed under the Apache License, Version 2.0 (the \"License\");\n",
              "// you may not use this file except in compliance with the License.\n",
              "// You may obtain a copy of the License at\n",
              "//\n",
              "//      http://www.apache.org/licenses/LICENSE-2.0\n",
              "//\n",
              "// Unless required by applicable law or agreed to in writing, software\n",
              "// distributed under the License is distributed on an \"AS IS\" BASIS,\n",
              "// WITHOUT WARRANTIES OR CONDITIONS OF ANY KIND, either express or implied.\n",
              "// See the License for the specific language governing permissions and\n",
              "// limitations under the License.\n",
              "\n",
              "/**\n",
              " * @fileoverview Helpers for google.colab Python module.\n",
              " */\n",
              "(function(scope) {\n",
              "function span(text, styleAttributes = {}) {\n",
              "  const element = document.createElement('span');\n",
              "  element.textContent = text;\n",
              "  for (const key of Object.keys(styleAttributes)) {\n",
              "    element.style[key] = styleAttributes[key];\n",
              "  }\n",
              "  return element;\n",
              "}\n",
              "\n",
              "// Max number of bytes which will be uploaded at a time.\n",
              "const MAX_PAYLOAD_SIZE = 100 * 1024;\n",
              "\n",
              "function _uploadFiles(inputId, outputId) {\n",
              "  const steps = uploadFilesStep(inputId, outputId);\n",
              "  const outputElement = document.getElementById(outputId);\n",
              "  // Cache steps on the outputElement to make it available for the next call\n",
              "  // to uploadFilesContinue from Python.\n",
              "  outputElement.steps = steps;\n",
              "\n",
              "  return _uploadFilesContinue(outputId);\n",
              "}\n",
              "\n",
              "// This is roughly an async generator (not supported in the browser yet),\n",
              "// where there are multiple asynchronous steps and the Python side is going\n",
              "// to poll for completion of each step.\n",
              "// This uses a Promise to block the python side on completion of each step,\n",
              "// then passes the result of the previous step as the input to the next step.\n",
              "function _uploadFilesContinue(outputId) {\n",
              "  const outputElement = document.getElementById(outputId);\n",
              "  const steps = outputElement.steps;\n",
              "\n",
              "  const next = steps.next(outputElement.lastPromiseValue);\n",
              "  return Promise.resolve(next.value.promise).then((value) => {\n",
              "    // Cache the last promise value to make it available to the next\n",
              "    // step of the generator.\n",
              "    outputElement.lastPromiseValue = value;\n",
              "    return next.value.response;\n",
              "  });\n",
              "}\n",
              "\n",
              "/**\n",
              " * Generator function which is called between each async step of the upload\n",
              " * process.\n",
              " * @param {string} inputId Element ID of the input file picker element.\n",
              " * @param {string} outputId Element ID of the output display.\n",
              " * @return {!Iterable<!Object>} Iterable of next steps.\n",
              " */\n",
              "function* uploadFilesStep(inputId, outputId) {\n",
              "  const inputElement = document.getElementById(inputId);\n",
              "  inputElement.disabled = false;\n",
              "\n",
              "  const outputElement = document.getElementById(outputId);\n",
              "  outputElement.innerHTML = '';\n",
              "\n",
              "  const pickedPromise = new Promise((resolve) => {\n",
              "    inputElement.addEventListener('change', (e) => {\n",
              "      resolve(e.target.files);\n",
              "    });\n",
              "  });\n",
              "\n",
              "  const cancel = document.createElement('button');\n",
              "  inputElement.parentElement.appendChild(cancel);\n",
              "  cancel.textContent = 'Cancel upload';\n",
              "  const cancelPromise = new Promise((resolve) => {\n",
              "    cancel.onclick = () => {\n",
              "      resolve(null);\n",
              "    };\n",
              "  });\n",
              "\n",
              "  // Wait for the user to pick the files.\n",
              "  const files = yield {\n",
              "    promise: Promise.race([pickedPromise, cancelPromise]),\n",
              "    response: {\n",
              "      action: 'starting',\n",
              "    }\n",
              "  };\n",
              "\n",
              "  cancel.remove();\n",
              "\n",
              "  // Disable the input element since further picks are not allowed.\n",
              "  inputElement.disabled = true;\n",
              "\n",
              "  if (!files) {\n",
              "    return {\n",
              "      response: {\n",
              "        action: 'complete',\n",
              "      }\n",
              "    };\n",
              "  }\n",
              "\n",
              "  for (const file of files) {\n",
              "    const li = document.createElement('li');\n",
              "    li.append(span(file.name, {fontWeight: 'bold'}));\n",
              "    li.append(span(\n",
              "        `(${file.type || 'n/a'}) - ${file.size} bytes, ` +\n",
              "        `last modified: ${\n",
              "            file.lastModifiedDate ? file.lastModifiedDate.toLocaleDateString() :\n",
              "                                    'n/a'} - `));\n",
              "    const percent = span('0% done');\n",
              "    li.appendChild(percent);\n",
              "\n",
              "    outputElement.appendChild(li);\n",
              "\n",
              "    const fileDataPromise = new Promise((resolve) => {\n",
              "      const reader = new FileReader();\n",
              "      reader.onload = (e) => {\n",
              "        resolve(e.target.result);\n",
              "      };\n",
              "      reader.readAsArrayBuffer(file);\n",
              "    });\n",
              "    // Wait for the data to be ready.\n",
              "    let fileData = yield {\n",
              "      promise: fileDataPromise,\n",
              "      response: {\n",
              "        action: 'continue',\n",
              "      }\n",
              "    };\n",
              "\n",
              "    // Use a chunked sending to avoid message size limits. See b/62115660.\n",
              "    let position = 0;\n",
              "    do {\n",
              "      const length = Math.min(fileData.byteLength - position, MAX_PAYLOAD_SIZE);\n",
              "      const chunk = new Uint8Array(fileData, position, length);\n",
              "      position += length;\n",
              "\n",
              "      const base64 = btoa(String.fromCharCode.apply(null, chunk));\n",
              "      yield {\n",
              "        response: {\n",
              "          action: 'append',\n",
              "          file: file.name,\n",
              "          data: base64,\n",
              "        },\n",
              "      };\n",
              "\n",
              "      let percentDone = fileData.byteLength === 0 ?\n",
              "          100 :\n",
              "          Math.round((position / fileData.byteLength) * 100);\n",
              "      percent.textContent = `${percentDone}% done`;\n",
              "\n",
              "    } while (position < fileData.byteLength);\n",
              "  }\n",
              "\n",
              "  // All done.\n",
              "  yield {\n",
              "    response: {\n",
              "      action: 'complete',\n",
              "    }\n",
              "  };\n",
              "}\n",
              "\n",
              "scope.google = scope.google || {};\n",
              "scope.google.colab = scope.google.colab || {};\n",
              "scope.google.colab._files = {\n",
              "  _uploadFiles,\n",
              "  _uploadFilesContinue,\n",
              "};\n",
              "})(self);\n",
              "</script> "
            ]
          },
          "metadata": {}
        },
        {
          "output_type": "stream",
          "name": "stdout",
          "text": [
            "Saving abtest.csv to abtest (1).csv\n"
          ]
        }
      ],
      "source": [
        "from google.colab import files\n",
        "uploaded = files.upload()\n",
        "import io\n",
        "df2 = pd.read_csv(io.BytesIO(uploaded['abtest.csv']))\n",
        "#data = pd.read_csv('abtest.csv')\n",
        "#df = data.copy()"
      ]
    },
    {
      "cell_type": "code",
      "source": [
        "df = df2.copy()"
      ],
      "metadata": {
        "id": "TjMpj7NpbHGw"
      },
      "id": "TjMpj7NpbHGw",
      "execution_count": null,
      "outputs": []
    },
    {
      "cell_type": "code",
      "execution_count": null,
      "id": "095a9f2d",
      "metadata": {
        "id": "095a9f2d",
        "outputId": "934cde2b-2674-4a22-a6c8-389cab7f6c86",
        "colab": {
          "base_uri": "https://localhost:8080/",
          "height": 204
        }
      },
      "outputs": [
        {
          "output_type": "execute_result",
          "data": {
            "text/plain": [
              "   user_id      group landing_page  time_spent_on_the_page converted  \\\n",
              "0   546592    control          old                    3.48        no   \n",
              "1   546468  treatment          new                    7.13       yes   \n",
              "2   546462  treatment          new                    4.40        no   \n",
              "3   546567    control          old                    3.02        no   \n",
              "4   546459  treatment          new                    4.75       yes   \n",
              "\n",
              "  language_preferred  \n",
              "0            Spanish  \n",
              "1            English  \n",
              "2            Spanish  \n",
              "3             French  \n",
              "4            Spanish  "
            ],
            "text/html": [
              "\n",
              "  <div id=\"df-43bba29b-f9fe-4b0a-b1ce-10ff658838e8\">\n",
              "    <div class=\"colab-df-container\">\n",
              "      <div>\n",
              "<style scoped>\n",
              "    .dataframe tbody tr th:only-of-type {\n",
              "        vertical-align: middle;\n",
              "    }\n",
              "\n",
              "    .dataframe tbody tr th {\n",
              "        vertical-align: top;\n",
              "    }\n",
              "\n",
              "    .dataframe thead th {\n",
              "        text-align: right;\n",
              "    }\n",
              "</style>\n",
              "<table border=\"1\" class=\"dataframe\">\n",
              "  <thead>\n",
              "    <tr style=\"text-align: right;\">\n",
              "      <th></th>\n",
              "      <th>user_id</th>\n",
              "      <th>group</th>\n",
              "      <th>landing_page</th>\n",
              "      <th>time_spent_on_the_page</th>\n",
              "      <th>converted</th>\n",
              "      <th>language_preferred</th>\n",
              "    </tr>\n",
              "  </thead>\n",
              "  <tbody>\n",
              "    <tr>\n",
              "      <th>0</th>\n",
              "      <td>546592</td>\n",
              "      <td>control</td>\n",
              "      <td>old</td>\n",
              "      <td>3.48</td>\n",
              "      <td>no</td>\n",
              "      <td>Spanish</td>\n",
              "    </tr>\n",
              "    <tr>\n",
              "      <th>1</th>\n",
              "      <td>546468</td>\n",
              "      <td>treatment</td>\n",
              "      <td>new</td>\n",
              "      <td>7.13</td>\n",
              "      <td>yes</td>\n",
              "      <td>English</td>\n",
              "    </tr>\n",
              "    <tr>\n",
              "      <th>2</th>\n",
              "      <td>546462</td>\n",
              "      <td>treatment</td>\n",
              "      <td>new</td>\n",
              "      <td>4.40</td>\n",
              "      <td>no</td>\n",
              "      <td>Spanish</td>\n",
              "    </tr>\n",
              "    <tr>\n",
              "      <th>3</th>\n",
              "      <td>546567</td>\n",
              "      <td>control</td>\n",
              "      <td>old</td>\n",
              "      <td>3.02</td>\n",
              "      <td>no</td>\n",
              "      <td>French</td>\n",
              "    </tr>\n",
              "    <tr>\n",
              "      <th>4</th>\n",
              "      <td>546459</td>\n",
              "      <td>treatment</td>\n",
              "      <td>new</td>\n",
              "      <td>4.75</td>\n",
              "      <td>yes</td>\n",
              "      <td>Spanish</td>\n",
              "    </tr>\n",
              "  </tbody>\n",
              "</table>\n",
              "</div>\n",
              "      <button class=\"colab-df-convert\" onclick=\"convertToInteractive('df-43bba29b-f9fe-4b0a-b1ce-10ff658838e8')\"\n",
              "              title=\"Convert this dataframe to an interactive table.\"\n",
              "              style=\"display:none;\">\n",
              "        \n",
              "  <svg xmlns=\"http://www.w3.org/2000/svg\" height=\"24px\"viewBox=\"0 0 24 24\"\n",
              "       width=\"24px\">\n",
              "    <path d=\"M0 0h24v24H0V0z\" fill=\"none\"/>\n",
              "    <path d=\"M18.56 5.44l.94 2.06.94-2.06 2.06-.94-2.06-.94-.94-2.06-.94 2.06-2.06.94zm-11 1L8.5 8.5l.94-2.06 2.06-.94-2.06-.94L8.5 2.5l-.94 2.06-2.06.94zm10 10l.94 2.06.94-2.06 2.06-.94-2.06-.94-.94-2.06-.94 2.06-2.06.94z\"/><path d=\"M17.41 7.96l-1.37-1.37c-.4-.4-.92-.59-1.43-.59-.52 0-1.04.2-1.43.59L10.3 9.45l-7.72 7.72c-.78.78-.78 2.05 0 2.83L4 21.41c.39.39.9.59 1.41.59.51 0 1.02-.2 1.41-.59l7.78-7.78 2.81-2.81c.8-.78.8-2.07 0-2.86zM5.41 20L4 18.59l7.72-7.72 1.47 1.35L5.41 20z\"/>\n",
              "  </svg>\n",
              "      </button>\n",
              "      \n",
              "  <style>\n",
              "    .colab-df-container {\n",
              "      display:flex;\n",
              "      flex-wrap:wrap;\n",
              "      gap: 12px;\n",
              "    }\n",
              "\n",
              "    .colab-df-convert {\n",
              "      background-color: #E8F0FE;\n",
              "      border: none;\n",
              "      border-radius: 50%;\n",
              "      cursor: pointer;\n",
              "      display: none;\n",
              "      fill: #1967D2;\n",
              "      height: 32px;\n",
              "      padding: 0 0 0 0;\n",
              "      width: 32px;\n",
              "    }\n",
              "\n",
              "    .colab-df-convert:hover {\n",
              "      background-color: #E2EBFA;\n",
              "      box-shadow: 0px 1px 2px rgba(60, 64, 67, 0.3), 0px 1px 3px 1px rgba(60, 64, 67, 0.15);\n",
              "      fill: #174EA6;\n",
              "    }\n",
              "\n",
              "    [theme=dark] .colab-df-convert {\n",
              "      background-color: #3B4455;\n",
              "      fill: #D2E3FC;\n",
              "    }\n",
              "\n",
              "    [theme=dark] .colab-df-convert:hover {\n",
              "      background-color: #434B5C;\n",
              "      box-shadow: 0px 1px 3px 1px rgba(0, 0, 0, 0.15);\n",
              "      filter: drop-shadow(0px 1px 2px rgba(0, 0, 0, 0.3));\n",
              "      fill: #FFFFFF;\n",
              "    }\n",
              "  </style>\n",
              "\n",
              "      <script>\n",
              "        const buttonEl =\n",
              "          document.querySelector('#df-43bba29b-f9fe-4b0a-b1ce-10ff658838e8 button.colab-df-convert');\n",
              "        buttonEl.style.display =\n",
              "          google.colab.kernel.accessAllowed ? 'block' : 'none';\n",
              "\n",
              "        async function convertToInteractive(key) {\n",
              "          const element = document.querySelector('#df-43bba29b-f9fe-4b0a-b1ce-10ff658838e8');\n",
              "          const dataTable =\n",
              "            await google.colab.kernel.invokeFunction('convertToInteractive',\n",
              "                                                     [key], {});\n",
              "          if (!dataTable) return;\n",
              "\n",
              "          const docLinkHtml = 'Like what you see? Visit the ' +\n",
              "            '<a target=\"_blank\" href=https://colab.research.google.com/notebooks/data_table.ipynb>data table notebook</a>'\n",
              "            + ' to learn more about interactive tables.';\n",
              "          element.innerHTML = '';\n",
              "          dataTable['output_type'] = 'display_data';\n",
              "          await google.colab.output.renderOutput(dataTable, element);\n",
              "          const docLink = document.createElement('div');\n",
              "          docLink.innerHTML = docLinkHtml;\n",
              "          element.appendChild(docLink);\n",
              "        }\n",
              "      </script>\n",
              "    </div>\n",
              "  </div>\n",
              "  "
            ]
          },
          "metadata": {},
          "execution_count": 11
        }
      ],
      "source": [
        "df.head()"
      ]
    },
    {
      "cell_type": "markdown",
      "id": "9d75cfa2",
      "metadata": {
        "id": "9d75cfa2"
      },
      "source": [
        "## Explore the dataset and extract insights using Exploratory Data Analysis"
      ]
    },
    {
      "cell_type": "markdown",
      "id": "27201534",
      "metadata": {
        "id": "27201534"
      },
      "source": [
        "- Data Overview\n",
        "  - Viewing the first and last few rows of the dataset\n",
        "  - Checking the shape of the dataset\n",
        "  - Getting the statistical summary for the variables\n",
        "- Check for missing values\n",
        "- Check for duplicates"
      ]
    },
    {
      "cell_type": "markdown",
      "id": "53d12e84",
      "metadata": {
        "id": "53d12e84"
      },
      "source": [
        "#### Data Overview"
      ]
    },
    {
      "cell_type": "code",
      "execution_count": null,
      "id": "d0daa640",
      "metadata": {
        "id": "d0daa640",
        "outputId": "96fbf380-2a72-4f80-9b8e-5375a401878b",
        "colab": {
          "base_uri": "https://localhost:8080/",
          "height": 268
        }
      },
      "outputs": [
        {
          "output_type": "execute_result",
          "data": {
            "text/plain": [
              "   user_id      group landing_page  time_spent_on_the_page converted  \\\n",
              "0   546592    control          old                    3.48        no   \n",
              "1   546468  treatment          new                    7.13       yes   \n",
              "2   546462  treatment          new                    4.40        no   \n",
              "3   546567    control          old                    3.02        no   \n",
              "4   546459  treatment          new                    4.75       yes   \n",
              "\n",
              "  language_preferred  \n",
              "0            Spanish  \n",
              "1            English  \n",
              "2            Spanish  \n",
              "3             French  \n",
              "4            Spanish  "
            ],
            "text/html": [
              "\n",
              "  <div id=\"df-9d28c0bd-88a4-4d2b-b8dc-319e1ea68175\">\n",
              "    <div class=\"colab-df-container\">\n",
              "      <div>\n",
              "<style scoped>\n",
              "    .dataframe tbody tr th:only-of-type {\n",
              "        vertical-align: middle;\n",
              "    }\n",
              "\n",
              "    .dataframe tbody tr th {\n",
              "        vertical-align: top;\n",
              "    }\n",
              "\n",
              "    .dataframe thead th {\n",
              "        text-align: right;\n",
              "    }\n",
              "</style>\n",
              "<table border=\"1\" class=\"dataframe\">\n",
              "  <thead>\n",
              "    <tr style=\"text-align: right;\">\n",
              "      <th></th>\n",
              "      <th>user_id</th>\n",
              "      <th>group</th>\n",
              "      <th>landing_page</th>\n",
              "      <th>time_spent_on_the_page</th>\n",
              "      <th>converted</th>\n",
              "      <th>language_preferred</th>\n",
              "    </tr>\n",
              "  </thead>\n",
              "  <tbody>\n",
              "    <tr>\n",
              "      <th>0</th>\n",
              "      <td>546592</td>\n",
              "      <td>control</td>\n",
              "      <td>old</td>\n",
              "      <td>3.48</td>\n",
              "      <td>no</td>\n",
              "      <td>Spanish</td>\n",
              "    </tr>\n",
              "    <tr>\n",
              "      <th>1</th>\n",
              "      <td>546468</td>\n",
              "      <td>treatment</td>\n",
              "      <td>new</td>\n",
              "      <td>7.13</td>\n",
              "      <td>yes</td>\n",
              "      <td>English</td>\n",
              "    </tr>\n",
              "    <tr>\n",
              "      <th>2</th>\n",
              "      <td>546462</td>\n",
              "      <td>treatment</td>\n",
              "      <td>new</td>\n",
              "      <td>4.40</td>\n",
              "      <td>no</td>\n",
              "      <td>Spanish</td>\n",
              "    </tr>\n",
              "    <tr>\n",
              "      <th>3</th>\n",
              "      <td>546567</td>\n",
              "      <td>control</td>\n",
              "      <td>old</td>\n",
              "      <td>3.02</td>\n",
              "      <td>no</td>\n",
              "      <td>French</td>\n",
              "    </tr>\n",
              "    <tr>\n",
              "      <th>4</th>\n",
              "      <td>546459</td>\n",
              "      <td>treatment</td>\n",
              "      <td>new</td>\n",
              "      <td>4.75</td>\n",
              "      <td>yes</td>\n",
              "      <td>Spanish</td>\n",
              "    </tr>\n",
              "  </tbody>\n",
              "</table>\n",
              "</div>\n",
              "      <button class=\"colab-df-convert\" onclick=\"convertToInteractive('df-9d28c0bd-88a4-4d2b-b8dc-319e1ea68175')\"\n",
              "              title=\"Convert this dataframe to an interactive table.\"\n",
              "              style=\"display:none;\">\n",
              "        \n",
              "  <svg xmlns=\"http://www.w3.org/2000/svg\" height=\"24px\"viewBox=\"0 0 24 24\"\n",
              "       width=\"24px\">\n",
              "    <path d=\"M0 0h24v24H0V0z\" fill=\"none\"/>\n",
              "    <path d=\"M18.56 5.44l.94 2.06.94-2.06 2.06-.94-2.06-.94-.94-2.06-.94 2.06-2.06.94zm-11 1L8.5 8.5l.94-2.06 2.06-.94-2.06-.94L8.5 2.5l-.94 2.06-2.06.94zm10 10l.94 2.06.94-2.06 2.06-.94-2.06-.94-.94-2.06-.94 2.06-2.06.94z\"/><path d=\"M17.41 7.96l-1.37-1.37c-.4-.4-.92-.59-1.43-.59-.52 0-1.04.2-1.43.59L10.3 9.45l-7.72 7.72c-.78.78-.78 2.05 0 2.83L4 21.41c.39.39.9.59 1.41.59.51 0 1.02-.2 1.41-.59l7.78-7.78 2.81-2.81c.8-.78.8-2.07 0-2.86zM5.41 20L4 18.59l7.72-7.72 1.47 1.35L5.41 20z\"/>\n",
              "  </svg>\n",
              "      </button>\n",
              "      \n",
              "  <style>\n",
              "    .colab-df-container {\n",
              "      display:flex;\n",
              "      flex-wrap:wrap;\n",
              "      gap: 12px;\n",
              "    }\n",
              "\n",
              "    .colab-df-convert {\n",
              "      background-color: #E8F0FE;\n",
              "      border: none;\n",
              "      border-radius: 50%;\n",
              "      cursor: pointer;\n",
              "      display: none;\n",
              "      fill: #1967D2;\n",
              "      height: 32px;\n",
              "      padding: 0 0 0 0;\n",
              "      width: 32px;\n",
              "    }\n",
              "\n",
              "    .colab-df-convert:hover {\n",
              "      background-color: #E2EBFA;\n",
              "      box-shadow: 0px 1px 2px rgba(60, 64, 67, 0.3), 0px 1px 3px 1px rgba(60, 64, 67, 0.15);\n",
              "      fill: #174EA6;\n",
              "    }\n",
              "\n",
              "    [theme=dark] .colab-df-convert {\n",
              "      background-color: #3B4455;\n",
              "      fill: #D2E3FC;\n",
              "    }\n",
              "\n",
              "    [theme=dark] .colab-df-convert:hover {\n",
              "      background-color: #434B5C;\n",
              "      box-shadow: 0px 1px 3px 1px rgba(0, 0, 0, 0.15);\n",
              "      filter: drop-shadow(0px 1px 2px rgba(0, 0, 0, 0.3));\n",
              "      fill: #FFFFFF;\n",
              "    }\n",
              "  </style>\n",
              "\n",
              "      <script>\n",
              "        const buttonEl =\n",
              "          document.querySelector('#df-9d28c0bd-88a4-4d2b-b8dc-319e1ea68175 button.colab-df-convert');\n",
              "        buttonEl.style.display =\n",
              "          google.colab.kernel.accessAllowed ? 'block' : 'none';\n",
              "\n",
              "        async function convertToInteractive(key) {\n",
              "          const element = document.querySelector('#df-9d28c0bd-88a4-4d2b-b8dc-319e1ea68175');\n",
              "          const dataTable =\n",
              "            await google.colab.kernel.invokeFunction('convertToInteractive',\n",
              "                                                     [key], {});\n",
              "          if (!dataTable) return;\n",
              "\n",
              "          const docLinkHtml = 'Like what you see? Visit the ' +\n",
              "            '<a target=\"_blank\" href=https://colab.research.google.com/notebooks/data_table.ipynb>data table notebook</a>'\n",
              "            + ' to learn more about interactive tables.';\n",
              "          element.innerHTML = '';\n",
              "          dataTable['output_type'] = 'display_data';\n",
              "          await google.colab.output.renderOutput(dataTable, element);\n",
              "          const docLink = document.createElement('div');\n",
              "          docLink.innerHTML = docLinkHtml;\n",
              "          element.appendChild(docLink);\n",
              "        }\n",
              "      </script>\n",
              "    </div>\n",
              "  </div>\n",
              "  "
            ]
          },
          "metadata": {},
          "execution_count": 12
        }
      ],
      "source": [
        "# Viewing first and last rows of data set\n",
        "df.head()"
      ]
    },
    {
      "cell_type": "code",
      "execution_count": null,
      "id": "6a78dac2",
      "metadata": {
        "id": "6a78dac2",
        "outputId": "77b9690c-c13e-49eb-98d7-19abc021bae9",
        "colab": {
          "base_uri": "https://localhost:8080/",
          "height": 268
        }
      },
      "outputs": [
        {
          "output_type": "execute_result",
          "data": {
            "text/plain": [
              "    user_id      group landing_page  time_spent_on_the_page converted  \\\n",
              "95   546446  treatment          new                    5.15        no   \n",
              "96   546544    control          old                    6.52       yes   \n",
              "97   546472  treatment          new                    7.07       yes   \n",
              "98   546481  treatment          new                    6.20       yes   \n",
              "99   546483  treatment          new                    5.86       yes   \n",
              "\n",
              "   language_preferred  \n",
              "95            Spanish  \n",
              "96            English  \n",
              "97            Spanish  \n",
              "98            Spanish  \n",
              "99            English  "
            ],
            "text/html": [
              "\n",
              "  <div id=\"df-1bef0758-75dc-4d9e-a1b7-df81e6a2dedc\">\n",
              "    <div class=\"colab-df-container\">\n",
              "      <div>\n",
              "<style scoped>\n",
              "    .dataframe tbody tr th:only-of-type {\n",
              "        vertical-align: middle;\n",
              "    }\n",
              "\n",
              "    .dataframe tbody tr th {\n",
              "        vertical-align: top;\n",
              "    }\n",
              "\n",
              "    .dataframe thead th {\n",
              "        text-align: right;\n",
              "    }\n",
              "</style>\n",
              "<table border=\"1\" class=\"dataframe\">\n",
              "  <thead>\n",
              "    <tr style=\"text-align: right;\">\n",
              "      <th></th>\n",
              "      <th>user_id</th>\n",
              "      <th>group</th>\n",
              "      <th>landing_page</th>\n",
              "      <th>time_spent_on_the_page</th>\n",
              "      <th>converted</th>\n",
              "      <th>language_preferred</th>\n",
              "    </tr>\n",
              "  </thead>\n",
              "  <tbody>\n",
              "    <tr>\n",
              "      <th>95</th>\n",
              "      <td>546446</td>\n",
              "      <td>treatment</td>\n",
              "      <td>new</td>\n",
              "      <td>5.15</td>\n",
              "      <td>no</td>\n",
              "      <td>Spanish</td>\n",
              "    </tr>\n",
              "    <tr>\n",
              "      <th>96</th>\n",
              "      <td>546544</td>\n",
              "      <td>control</td>\n",
              "      <td>old</td>\n",
              "      <td>6.52</td>\n",
              "      <td>yes</td>\n",
              "      <td>English</td>\n",
              "    </tr>\n",
              "    <tr>\n",
              "      <th>97</th>\n",
              "      <td>546472</td>\n",
              "      <td>treatment</td>\n",
              "      <td>new</td>\n",
              "      <td>7.07</td>\n",
              "      <td>yes</td>\n",
              "      <td>Spanish</td>\n",
              "    </tr>\n",
              "    <tr>\n",
              "      <th>98</th>\n",
              "      <td>546481</td>\n",
              "      <td>treatment</td>\n",
              "      <td>new</td>\n",
              "      <td>6.20</td>\n",
              "      <td>yes</td>\n",
              "      <td>Spanish</td>\n",
              "    </tr>\n",
              "    <tr>\n",
              "      <th>99</th>\n",
              "      <td>546483</td>\n",
              "      <td>treatment</td>\n",
              "      <td>new</td>\n",
              "      <td>5.86</td>\n",
              "      <td>yes</td>\n",
              "      <td>English</td>\n",
              "    </tr>\n",
              "  </tbody>\n",
              "</table>\n",
              "</div>\n",
              "      <button class=\"colab-df-convert\" onclick=\"convertToInteractive('df-1bef0758-75dc-4d9e-a1b7-df81e6a2dedc')\"\n",
              "              title=\"Convert this dataframe to an interactive table.\"\n",
              "              style=\"display:none;\">\n",
              "        \n",
              "  <svg xmlns=\"http://www.w3.org/2000/svg\" height=\"24px\"viewBox=\"0 0 24 24\"\n",
              "       width=\"24px\">\n",
              "    <path d=\"M0 0h24v24H0V0z\" fill=\"none\"/>\n",
              "    <path d=\"M18.56 5.44l.94 2.06.94-2.06 2.06-.94-2.06-.94-.94-2.06-.94 2.06-2.06.94zm-11 1L8.5 8.5l.94-2.06 2.06-.94-2.06-.94L8.5 2.5l-.94 2.06-2.06.94zm10 10l.94 2.06.94-2.06 2.06-.94-2.06-.94-.94-2.06-.94 2.06-2.06.94z\"/><path d=\"M17.41 7.96l-1.37-1.37c-.4-.4-.92-.59-1.43-.59-.52 0-1.04.2-1.43.59L10.3 9.45l-7.72 7.72c-.78.78-.78 2.05 0 2.83L4 21.41c.39.39.9.59 1.41.59.51 0 1.02-.2 1.41-.59l7.78-7.78 2.81-2.81c.8-.78.8-2.07 0-2.86zM5.41 20L4 18.59l7.72-7.72 1.47 1.35L5.41 20z\"/>\n",
              "  </svg>\n",
              "      </button>\n",
              "      \n",
              "  <style>\n",
              "    .colab-df-container {\n",
              "      display:flex;\n",
              "      flex-wrap:wrap;\n",
              "      gap: 12px;\n",
              "    }\n",
              "\n",
              "    .colab-df-convert {\n",
              "      background-color: #E8F0FE;\n",
              "      border: none;\n",
              "      border-radius: 50%;\n",
              "      cursor: pointer;\n",
              "      display: none;\n",
              "      fill: #1967D2;\n",
              "      height: 32px;\n",
              "      padding: 0 0 0 0;\n",
              "      width: 32px;\n",
              "    }\n",
              "\n",
              "    .colab-df-convert:hover {\n",
              "      background-color: #E2EBFA;\n",
              "      box-shadow: 0px 1px 2px rgba(60, 64, 67, 0.3), 0px 1px 3px 1px rgba(60, 64, 67, 0.15);\n",
              "      fill: #174EA6;\n",
              "    }\n",
              "\n",
              "    [theme=dark] .colab-df-convert {\n",
              "      background-color: #3B4455;\n",
              "      fill: #D2E3FC;\n",
              "    }\n",
              "\n",
              "    [theme=dark] .colab-df-convert:hover {\n",
              "      background-color: #434B5C;\n",
              "      box-shadow: 0px 1px 3px 1px rgba(0, 0, 0, 0.15);\n",
              "      filter: drop-shadow(0px 1px 2px rgba(0, 0, 0, 0.3));\n",
              "      fill: #FFFFFF;\n",
              "    }\n",
              "  </style>\n",
              "\n",
              "      <script>\n",
              "        const buttonEl =\n",
              "          document.querySelector('#df-1bef0758-75dc-4d9e-a1b7-df81e6a2dedc button.colab-df-convert');\n",
              "        buttonEl.style.display =\n",
              "          google.colab.kernel.accessAllowed ? 'block' : 'none';\n",
              "\n",
              "        async function convertToInteractive(key) {\n",
              "          const element = document.querySelector('#df-1bef0758-75dc-4d9e-a1b7-df81e6a2dedc');\n",
              "          const dataTable =\n",
              "            await google.colab.kernel.invokeFunction('convertToInteractive',\n",
              "                                                     [key], {});\n",
              "          if (!dataTable) return;\n",
              "\n",
              "          const docLinkHtml = 'Like what you see? Visit the ' +\n",
              "            '<a target=\"_blank\" href=https://colab.research.google.com/notebooks/data_table.ipynb>data table notebook</a>'\n",
              "            + ' to learn more about interactive tables.';\n",
              "          element.innerHTML = '';\n",
              "          dataTable['output_type'] = 'display_data';\n",
              "          await google.colab.output.renderOutput(dataTable, element);\n",
              "          const docLink = document.createElement('div');\n",
              "          docLink.innerHTML = docLinkHtml;\n",
              "          element.appendChild(docLink);\n",
              "        }\n",
              "      </script>\n",
              "    </div>\n",
              "  </div>\n",
              "  "
            ]
          },
          "metadata": {},
          "execution_count": 13
        }
      ],
      "source": [
        "df.tail()"
      ]
    },
    {
      "cell_type": "code",
      "execution_count": null,
      "id": "357db01d",
      "metadata": {
        "id": "357db01d",
        "outputId": "cbbfd443-84cc-4b6a-af88-3efb87057e53",
        "colab": {
          "base_uri": "https://localhost:8080/"
        }
      },
      "outputs": [
        {
          "output_type": "execute_result",
          "data": {
            "text/plain": [
              "(100, 6)"
            ]
          },
          "metadata": {},
          "execution_count": 14
        }
      ],
      "source": [
        "#Checking the shape of the data frame\n",
        "df.shape"
      ]
    },
    {
      "cell_type": "markdown",
      "id": "6841ec40",
      "metadata": {
        "id": "6841ec40"
      },
      "source": [
        "There are 100 observations (rows) and 6 variables (columns)"
      ]
    },
    {
      "cell_type": "code",
      "execution_count": null,
      "id": "e1ad11d4",
      "metadata": {
        "id": "e1ad11d4",
        "outputId": "d0e8a604-0bf9-4f21-fbfc-52c3f009bbc3",
        "colab": {
          "base_uri": "https://localhost:8080/",
          "height": 299
        }
      },
      "outputs": [
        {
          "output_type": "execute_result",
          "data": {
            "text/plain": [
              "                        count unique      top freq      mean        std  \\\n",
              "user_id                 100.0    NaN      NaN  NaN  546517.0  52.295779   \n",
              "group                     100      2  control   50       NaN        NaN   \n",
              "landing_page              100      2      old   50       NaN        NaN   \n",
              "time_spent_on_the_page  100.0    NaN      NaN  NaN    5.3778   2.378166   \n",
              "converted                 100      2      yes   54       NaN        NaN   \n",
              "language_preferred        100      3  Spanish   34       NaN        NaN   \n",
              "\n",
              "                             min        25%       50%        75%       max  \n",
              "user_id                 546443.0  546467.75  546492.5  546567.25  546592.0  \n",
              "group                        NaN        NaN       NaN        NaN       NaN  \n",
              "landing_page                 NaN        NaN       NaN        NaN       NaN  \n",
              "time_spent_on_the_page      0.19       3.88     5.415     7.0225     10.71  \n",
              "converted                    NaN        NaN       NaN        NaN       NaN  \n",
              "language_preferred           NaN        NaN       NaN        NaN       NaN  "
            ],
            "text/html": [
              "\n",
              "  <div id=\"df-9c5373b1-d969-4d64-91e8-0aaa3cef5ae2\">\n",
              "    <div class=\"colab-df-container\">\n",
              "      <div>\n",
              "<style scoped>\n",
              "    .dataframe tbody tr th:only-of-type {\n",
              "        vertical-align: middle;\n",
              "    }\n",
              "\n",
              "    .dataframe tbody tr th {\n",
              "        vertical-align: top;\n",
              "    }\n",
              "\n",
              "    .dataframe thead th {\n",
              "        text-align: right;\n",
              "    }\n",
              "</style>\n",
              "<table border=\"1\" class=\"dataframe\">\n",
              "  <thead>\n",
              "    <tr style=\"text-align: right;\">\n",
              "      <th></th>\n",
              "      <th>count</th>\n",
              "      <th>unique</th>\n",
              "      <th>top</th>\n",
              "      <th>freq</th>\n",
              "      <th>mean</th>\n",
              "      <th>std</th>\n",
              "      <th>min</th>\n",
              "      <th>25%</th>\n",
              "      <th>50%</th>\n",
              "      <th>75%</th>\n",
              "      <th>max</th>\n",
              "    </tr>\n",
              "  </thead>\n",
              "  <tbody>\n",
              "    <tr>\n",
              "      <th>user_id</th>\n",
              "      <td>100.0</td>\n",
              "      <td>NaN</td>\n",
              "      <td>NaN</td>\n",
              "      <td>NaN</td>\n",
              "      <td>546517.0</td>\n",
              "      <td>52.295779</td>\n",
              "      <td>546443.0</td>\n",
              "      <td>546467.75</td>\n",
              "      <td>546492.5</td>\n",
              "      <td>546567.25</td>\n",
              "      <td>546592.0</td>\n",
              "    </tr>\n",
              "    <tr>\n",
              "      <th>group</th>\n",
              "      <td>100</td>\n",
              "      <td>2</td>\n",
              "      <td>control</td>\n",
              "      <td>50</td>\n",
              "      <td>NaN</td>\n",
              "      <td>NaN</td>\n",
              "      <td>NaN</td>\n",
              "      <td>NaN</td>\n",
              "      <td>NaN</td>\n",
              "      <td>NaN</td>\n",
              "      <td>NaN</td>\n",
              "    </tr>\n",
              "    <tr>\n",
              "      <th>landing_page</th>\n",
              "      <td>100</td>\n",
              "      <td>2</td>\n",
              "      <td>old</td>\n",
              "      <td>50</td>\n",
              "      <td>NaN</td>\n",
              "      <td>NaN</td>\n",
              "      <td>NaN</td>\n",
              "      <td>NaN</td>\n",
              "      <td>NaN</td>\n",
              "      <td>NaN</td>\n",
              "      <td>NaN</td>\n",
              "    </tr>\n",
              "    <tr>\n",
              "      <th>time_spent_on_the_page</th>\n",
              "      <td>100.0</td>\n",
              "      <td>NaN</td>\n",
              "      <td>NaN</td>\n",
              "      <td>NaN</td>\n",
              "      <td>5.3778</td>\n",
              "      <td>2.378166</td>\n",
              "      <td>0.19</td>\n",
              "      <td>3.88</td>\n",
              "      <td>5.415</td>\n",
              "      <td>7.0225</td>\n",
              "      <td>10.71</td>\n",
              "    </tr>\n",
              "    <tr>\n",
              "      <th>converted</th>\n",
              "      <td>100</td>\n",
              "      <td>2</td>\n",
              "      <td>yes</td>\n",
              "      <td>54</td>\n",
              "      <td>NaN</td>\n",
              "      <td>NaN</td>\n",
              "      <td>NaN</td>\n",
              "      <td>NaN</td>\n",
              "      <td>NaN</td>\n",
              "      <td>NaN</td>\n",
              "      <td>NaN</td>\n",
              "    </tr>\n",
              "    <tr>\n",
              "      <th>language_preferred</th>\n",
              "      <td>100</td>\n",
              "      <td>3</td>\n",
              "      <td>Spanish</td>\n",
              "      <td>34</td>\n",
              "      <td>NaN</td>\n",
              "      <td>NaN</td>\n",
              "      <td>NaN</td>\n",
              "      <td>NaN</td>\n",
              "      <td>NaN</td>\n",
              "      <td>NaN</td>\n",
              "      <td>NaN</td>\n",
              "    </tr>\n",
              "  </tbody>\n",
              "</table>\n",
              "</div>\n",
              "      <button class=\"colab-df-convert\" onclick=\"convertToInteractive('df-9c5373b1-d969-4d64-91e8-0aaa3cef5ae2')\"\n",
              "              title=\"Convert this dataframe to an interactive table.\"\n",
              "              style=\"display:none;\">\n",
              "        \n",
              "  <svg xmlns=\"http://www.w3.org/2000/svg\" height=\"24px\"viewBox=\"0 0 24 24\"\n",
              "       width=\"24px\">\n",
              "    <path d=\"M0 0h24v24H0V0z\" fill=\"none\"/>\n",
              "    <path d=\"M18.56 5.44l.94 2.06.94-2.06 2.06-.94-2.06-.94-.94-2.06-.94 2.06-2.06.94zm-11 1L8.5 8.5l.94-2.06 2.06-.94-2.06-.94L8.5 2.5l-.94 2.06-2.06.94zm10 10l.94 2.06.94-2.06 2.06-.94-2.06-.94-.94-2.06-.94 2.06-2.06.94z\"/><path d=\"M17.41 7.96l-1.37-1.37c-.4-.4-.92-.59-1.43-.59-.52 0-1.04.2-1.43.59L10.3 9.45l-7.72 7.72c-.78.78-.78 2.05 0 2.83L4 21.41c.39.39.9.59 1.41.59.51 0 1.02-.2 1.41-.59l7.78-7.78 2.81-2.81c.8-.78.8-2.07 0-2.86zM5.41 20L4 18.59l7.72-7.72 1.47 1.35L5.41 20z\"/>\n",
              "  </svg>\n",
              "      </button>\n",
              "      \n",
              "  <style>\n",
              "    .colab-df-container {\n",
              "      display:flex;\n",
              "      flex-wrap:wrap;\n",
              "      gap: 12px;\n",
              "    }\n",
              "\n",
              "    .colab-df-convert {\n",
              "      background-color: #E8F0FE;\n",
              "      border: none;\n",
              "      border-radius: 50%;\n",
              "      cursor: pointer;\n",
              "      display: none;\n",
              "      fill: #1967D2;\n",
              "      height: 32px;\n",
              "      padding: 0 0 0 0;\n",
              "      width: 32px;\n",
              "    }\n",
              "\n",
              "    .colab-df-convert:hover {\n",
              "      background-color: #E2EBFA;\n",
              "      box-shadow: 0px 1px 2px rgba(60, 64, 67, 0.3), 0px 1px 3px 1px rgba(60, 64, 67, 0.15);\n",
              "      fill: #174EA6;\n",
              "    }\n",
              "\n",
              "    [theme=dark] .colab-df-convert {\n",
              "      background-color: #3B4455;\n",
              "      fill: #D2E3FC;\n",
              "    }\n",
              "\n",
              "    [theme=dark] .colab-df-convert:hover {\n",
              "      background-color: #434B5C;\n",
              "      box-shadow: 0px 1px 3px 1px rgba(0, 0, 0, 0.15);\n",
              "      filter: drop-shadow(0px 1px 2px rgba(0, 0, 0, 0.3));\n",
              "      fill: #FFFFFF;\n",
              "    }\n",
              "  </style>\n",
              "\n",
              "      <script>\n",
              "        const buttonEl =\n",
              "          document.querySelector('#df-9c5373b1-d969-4d64-91e8-0aaa3cef5ae2 button.colab-df-convert');\n",
              "        buttonEl.style.display =\n",
              "          google.colab.kernel.accessAllowed ? 'block' : 'none';\n",
              "\n",
              "        async function convertToInteractive(key) {\n",
              "          const element = document.querySelector('#df-9c5373b1-d969-4d64-91e8-0aaa3cef5ae2');\n",
              "          const dataTable =\n",
              "            await google.colab.kernel.invokeFunction('convertToInteractive',\n",
              "                                                     [key], {});\n",
              "          if (!dataTable) return;\n",
              "\n",
              "          const docLinkHtml = 'Like what you see? Visit the ' +\n",
              "            '<a target=\"_blank\" href=https://colab.research.google.com/notebooks/data_table.ipynb>data table notebook</a>'\n",
              "            + ' to learn more about interactive tables.';\n",
              "          element.innerHTML = '';\n",
              "          dataTable['output_type'] = 'display_data';\n",
              "          await google.colab.output.renderOutput(dataTable, element);\n",
              "          const docLink = document.createElement('div');\n",
              "          docLink.innerHTML = docLinkHtml;\n",
              "          element.appendChild(docLink);\n",
              "        }\n",
              "      </script>\n",
              "    </div>\n",
              "  </div>\n",
              "  "
            ]
          },
          "metadata": {},
          "execution_count": 15
        }
      ],
      "source": [
        "#Getting the statistical summary of the variables \n",
        "df.describe(include= 'all').T   "
      ]
    },
    {
      "cell_type": "markdown",
      "id": "a142ab31",
      "metadata": {
        "id": "a142ab31"
      },
      "source": [
        "Object type variables:\n",
        "- There are two types of `group`: The sample of 100 observations is divided into two: \"control\" and \"treatment\" - 50/50 respectively.\n",
        "-  There are two types of `landing_page`: The sample of 100 observations is divided into two: \"old\" and \"new\" - 50/50 respectively.\n",
        "* control = old ; treatment = new\n",
        "- The variable `converted` has two types: \"yes\" and \"no\", where \"yes\" has the highest frequency (54%) for all the sample (old and new).\n",
        "- For `language_preferred`, there are three options: \"Spanish\", \"English\" and \"French\", where \"Spanish\" has the highest frequency (34%)for all the sample.  - EDA shows another side of the coin.\n",
        "\n",
        "Numerical type variables:\n",
        "- `time_spent_on_the_page` has a mean of of 5.38 and a median (50%) of 5.42 minutes. The minimum time spent on a landing page was 19 seconds and the maximum was 10.71 minutes."
      ]
    },
    {
      "cell_type": "code",
      "execution_count": null,
      "id": "2dee3bf9",
      "metadata": {
        "scrolled": true,
        "id": "2dee3bf9",
        "outputId": "e18edbcc-ffdc-4d2a-8489-922f2b64bb94",
        "colab": {
          "base_uri": "https://localhost:8080/"
        }
      },
      "outputs": [
        {
          "output_type": "stream",
          "name": "stdout",
          "text": [
            "<class 'pandas.core.frame.DataFrame'>\n",
            "RangeIndex: 100 entries, 0 to 99\n",
            "Data columns (total 6 columns):\n",
            " #   Column                  Non-Null Count  Dtype  \n",
            "---  ------                  --------------  -----  \n",
            " 0   user_id                 100 non-null    int64  \n",
            " 1   group                   100 non-null    object \n",
            " 2   landing_page            100 non-null    object \n",
            " 3   time_spent_on_the_page  100 non-null    float64\n",
            " 4   converted               100 non-null    object \n",
            " 5   language_preferred      100 non-null    object \n",
            "dtypes: float64(1), int64(1), object(4)\n",
            "memory usage: 4.8+ KB\n"
          ]
        }
      ],
      "source": [
        "df.info()"
      ]
    },
    {
      "cell_type": "markdown",
      "id": "da8019fa",
      "metadata": {
        "id": "da8019fa"
      },
      "source": [
        "There are 6 variables from where 4 are of type \"object\" and 2 are of type numerical \"int64\" and \"float64\"."
      ]
    },
    {
      "cell_type": "markdown",
      "id": "42ea8a36",
      "metadata": {
        "id": "42ea8a36"
      },
      "source": [
        "#### Checking of missing values"
      ]
    },
    {
      "cell_type": "code",
      "execution_count": null,
      "id": "162cb8a2",
      "metadata": {
        "id": "162cb8a2",
        "outputId": "2d5fab1c-41d0-48e6-aafc-957c18c33d9b",
        "colab": {
          "base_uri": "https://localhost:8080/"
        }
      },
      "outputs": [
        {
          "output_type": "execute_result",
          "data": {
            "text/plain": [
              "user_id                   0\n",
              "group                     0\n",
              "landing_page              0\n",
              "time_spent_on_the_page    0\n",
              "converted                 0\n",
              "language_preferred        0\n",
              "dtype: int64"
            ]
          },
          "metadata": {},
          "execution_count": 17
        }
      ],
      "source": [
        "df.isnull().sum()   "
      ]
    },
    {
      "cell_type": "markdown",
      "id": "c52fd533",
      "metadata": {
        "id": "c52fd533"
      },
      "source": [
        "There are no missing values"
      ]
    },
    {
      "cell_type": "code",
      "execution_count": null,
      "id": "b8f0d2fa",
      "metadata": {
        "id": "b8f0d2fa",
        "outputId": "ffafb38f-ff12-44a9-a1ce-f4a087af37e1",
        "colab": {
          "base_uri": "https://localhost:8080/"
        }
      },
      "outputs": [
        {
          "output_type": "execute_result",
          "data": {
            "text/plain": [
              "0"
            ]
          },
          "metadata": {},
          "execution_count": 18
        }
      ],
      "source": [
        "df.duplicated().sum()  "
      ]
    },
    {
      "cell_type": "markdown",
      "id": "05688b7e",
      "metadata": {
        "id": "05688b7e"
      },
      "source": [
        "No duplicated values"
      ]
    },
    {
      "cell_type": "markdown",
      "id": "68f3b2c9",
      "metadata": {
        "id": "68f3b2c9"
      },
      "source": [
        "### Univariate Analysis"
      ]
    },
    {
      "cell_type": "code",
      "execution_count": null,
      "id": "90b67ede",
      "metadata": {
        "id": "90b67ede",
        "outputId": "83a8f59c-359f-4abc-adae-69975cb0060c",
        "colab": {
          "base_uri": "https://localhost:8080/",
          "height": 54
        }
      },
      "outputs": [
        {
          "output_type": "display_data",
          "data": {
            "text/plain": [
              "<Figure size 432x288 with 1 Axes>"
            ],
            "image/png": "[encoded data removed]"
          },
          "metadata": {
            "needs_background": "light"
          }
        }
      ],
      "source": [
        "sns.countplot(data=df, x='landing_page')\n",
        "plt.title('Countplot:Landing page type');"
      ]
    },
    {
      "cell_type": "markdown",
      "id": "5a550b58",
      "metadata": {
        "id": "5a550b58"
      },
      "source": [
        "Sample is divided in equal parts: 50 old (control) /50 new (treatment)."
      ]
    },
    {
      "cell_type": "code",
      "execution_count": null,
      "id": "79cb1d3d",
      "metadata": {
        "id": "79cb1d3d",
        "outputId": "d672f259-e181-451b-dacd-02830de0d40a",
        "colab": {
          "base_uri": "https://localhost:8080/",
          "height": 190
        }
      },
      "outputs": [
        {
          "output_type": "execute_result",
          "data": {
            "text/plain": [
              "yes    54\n",
              "no     46\n",
              "Name: converted, dtype: int64"
            ]
          },
          "metadata": {},
          "execution_count": 20
        },
        {
          "output_type": "display_data",
          "data": {
            "text/plain": [
              "<Figure size 432x288 with 1 Axes>"
            ],
            "image/png": "[encoded data removed]"
          },
          "metadata": {
            "needs_background": "light"
          }
        }
      ],
      "source": [
        "sns.countplot(data=df, x='converted')\n",
        "plt.title('Countplot: Conversion')\n",
        "df['converted'].value_counts() "
      ]
    },
    {
      "cell_type": "markdown",
      "id": "be85436b",
      "metadata": {
        "id": "be85436b"
      },
      "source": [
        "For the whole sample, converted 'yes' seems to be the most frequent with 54 counts while 'no' has a total count of 46.\n",
        "\n",
        "This graph does not show conversion separately for each landing page."
      ]
    },
    {
      "cell_type": "code",
      "execution_count": null,
      "id": "ef8ce73e",
      "metadata": {
        "id": "ef8ce73e",
        "outputId": "d7206820-f410-4255-8686-3c6195f5c3e2",
        "colab": {
          "base_uri": "https://localhost:8080/",
          "height": 224
        }
      },
      "outputs": [
        {
          "output_type": "execute_result",
          "data": {
            "text/plain": [
              "Spanish    34\n",
              "French     34\n",
              "English    32\n",
              "Name: language_preferred, dtype: int64"
            ]
          },
          "metadata": {},
          "execution_count": 21
        },
        {
          "output_type": "display_data",
          "data": {
            "text/plain": [
              "<Figure size 432x288 with 1 Axes>"
            ],
            "image/png": "[encoded data removed]"
          },
          "metadata": {
            "needs_background": "light"
          }
        }
      ],
      "source": [
        "sns.countplot(data=df, x='language_preferred')\n",
        "plt.title('Countplot: Language preference');\n",
        "df['language_preferred'].value_counts()"
      ]
    },
    {
      "cell_type": "markdown",
      "id": "674b0c84",
      "metadata": {
        "id": "674b0c84"
      },
      "source": [
        "As observed in the \"describe\" function, Spanish seemed to be the most frequent category for preferred language, however, French and Spanish actually have the same 34 frequency count. English is just a little behind with 32 counts. The difference between preferred languages is minimal for all the sample. \n",
        "\n",
        "\n",
        "This graph does not show language preference separately for each landing page."
      ]
    },
    {
      "cell_type": "code",
      "execution_count": null,
      "id": "b35929f0",
      "metadata": {
        "id": "b35929f0",
        "outputId": "a9ad6dbc-578d-4df8-ac3a-fbb23e2e21ba",
        "colab": {
          "base_uri": "https://localhost:8080/",
          "height": 105
        }
      },
      "outputs": [
        {
          "output_type": "stream",
          "name": "stdout",
          "text": [
            "Mean time spent on the landing page is: 5.38\n",
            "Maximum time spent on the landing page is: 10.71\n",
            "Minimum time spent on the landing page is: 0.19\n"
          ]
        },
        {
          "output_type": "display_data",
          "data": {
            "text/plain": [
              "<Figure size 432x288 with 1 Axes>"
            ],
            "image/png": "[encoded data removed]"
          },
          "metadata": {
            "needs_background": "light"
          }
        }
      ],
      "source": [
        "sns.violinplot(data=df, x='time_spent_on_the_page', showmeans=True)\n",
        "plt.title('Violin plot: Time spent on Landpage');\n",
        "print('Mean time spent on the landing page is:',round(df['time_spent_on_the_page'].mean(),2))\n",
        "print('Maximum time spent on the landing page is:',df['time_spent_on_the_page'].max())\n",
        "print('Minimum time spent on the landing page is:',df['time_spent_on_the_page'].min())"
      ]
    },
    {
      "cell_type": "markdown",
      "id": "fad2de2f",
      "metadata": {
        "id": "fad2de2f"
      },
      "source": [
        "### Bivariate Analysis"
      ]
    },
    {
      "cell_type": "code",
      "execution_count": null,
      "id": "08238e16",
      "metadata": {
        "id": "08238e16",
        "outputId": "8c85c6c8-eb8b-43c0-b1de-a696c1eaa47a",
        "colab": {
          "base_uri": "https://localhost:8080/",
          "height": 258
        }
      },
      "outputs": [
        {
          "output_type": "stream",
          "name": "stdout",
          "text": [
            "Minimum time            time_spent_on_the_page\n",
            "group                            \n",
            "control                      0.19\n",
            "treatment                    1.65\n",
            "Maximum time            time_spent_on_the_page\n",
            "group                            \n",
            "control                     10.30\n",
            "treatment                   10.71\n",
            "Mean time            time_spent_on_the_page\n",
            "group                            \n",
            "control                    4.5324\n",
            "treatment                  6.2232\n"
          ]
        },
        {
          "output_type": "display_data",
          "data": {
            "text/plain": [
              "<Figure size 432x288 with 1 Axes>"
            ],
            "image/png": "[encoded data removed]"
          },
          "metadata": {
            "needs_background": "light"
          }
        }
      ],
      "source": [
        "sns.violinplot(data=df, x='group', y= 'time_spent_on_the_page', hue ='group', showmeans=True)\n",
        "plt.legend(fontsize= 'small')\n",
        "plt.legend(loc='lower right')\n",
        "plt.title('Violin plot: Time spent on Landing Page by group');\n",
        "print('Minimum time',df.groupby(['group'])[['time_spent_on_the_page']].min())\n",
        "print('Maximum time',df.groupby(['group'])[['time_spent_on_the_page']].max())\n",
        "print('Mean time',df.groupby(['group'])[['time_spent_on_the_page']].mean())\n"
      ]
    },
    {
      "cell_type": "markdown",
      "id": "db6167c3",
      "metadata": {
        "id": "db6167c3"
      },
      "source": [
        "It seems that in comparison with the old (control) landing page,the new landing page (treatment), on average, has changed positively the minimum time spent on the landing page from 19 seconds to 1.65 minutes of engagement.\n",
        "\n",
        "The increase in the maximal time is just 4% and the mean engagement time encreased 37.3% from 4.53 to 6.22 minutes."
      ]
    },
    {
      "cell_type": "code",
      "execution_count": null,
      "id": "58e9a1d0",
      "metadata": {
        "id": "58e9a1d0",
        "outputId": "344ff7a8-91ff-4dfc-f417-7b710339cf22",
        "colab": {
          "base_uri": "https://localhost:8080/",
          "height": 462
        }
      },
      "outputs": [
        {
          "output_type": "stream",
          "name": "stdout",
          "text": [
            "Minimum time                               time_spent_on_the_page\n",
            "group     language_preferred                        \n",
            "control   English                               0.22\n",
            "          French                                0.40\n",
            "          Spanish                               0.19\n",
            "treatment English                               3.65\n",
            "          French                                3.30\n",
            "          Spanish                               1.65\n",
            "Maximum time                               time_spent_on_the_page\n",
            "group     language_preferred                        \n",
            "control   English                              10.30\n",
            "          French                                9.15\n",
            "          Spanish                               8.72\n",
            "treatment English                              10.50\n",
            "          French                               10.71\n",
            "          Spanish                               8.08\n",
            "Mean time                               time_spent_on_the_page\n",
            "group     language_preferred                        \n",
            "control   English                           4.454375\n",
            "          French                            4.310000\n",
            "          Spanish                           4.828235\n",
            "treatment English                           6.663750\n",
            "          French                            6.196471\n",
            "          Spanish                           5.835294\n"
          ]
        },
        {
          "output_type": "display_data",
          "data": {
            "text/plain": [
              "<Figure size 432x288 with 1 Axes>"
            ],
            "image/png": "[encoded data removed]"
          },
          "metadata": {
            "needs_background": "light"
          }
        }
      ],
      "source": [
        "sns.violinplot(data=df, x='group', y= 'time_spent_on_the_page', hue = 'language_preferred', showmeans=True)\n",
        "plt.legend(fontsize= 'small')\n",
        "plt.legend(loc='lower right')\n",
        "plt.title('Violin plot: Time Spent on Landing Page by Group and Language Preference');\n",
        "print('Minimum time',df.groupby(['group','language_preferred'])[['time_spent_on_the_page']].min())\n",
        "print('Maximum time',df.groupby(['group','language_preferred'])[['time_spent_on_the_page']].max())\n",
        "print('Mean time',df.groupby(['group','language_preferred'])[['time_spent_on_the_page']].mean())"
      ]
    },
    {
      "cell_type": "markdown",
      "id": "f97f0c0f",
      "metadata": {
        "id": "f97f0c0f"
      },
      "source": [
        "Analyzing the details by grouping by \"preferred language\", all languages show an increase in the minimum time, however, for the maximum time, \"Spanish\" new landing page shows a slight decrease of time engagement (-7.34%)in comparison with the old landing page. \n",
        "\n",
        "The mean engagement time for all languages is higher (37.3%) with the new landing page than with the old one."
      ]
    },
    {
      "cell_type": "code",
      "execution_count": null,
      "id": "dec0dcd2",
      "metadata": {
        "id": "dec0dcd2",
        "outputId": "29c04258-7662-4efe-bf26-e0162230a28c",
        "colab": {
          "base_uri": "https://localhost:8080/",
          "height": 285
        }
      },
      "outputs": [
        {
          "output_type": "execute_result",
          "data": {
            "text/plain": [
              "                     converted\n",
              "group     converted           \n",
              "control   no                29\n",
              "          yes               21\n",
              "treatment no                17\n",
              "          yes               33"
            ],
            "text/html": [
              "\n",
              "  <div id=\"df-b2c0bfe6-834b-4135-8978-7dcf807fcc8c\">\n",
              "    <div class=\"colab-df-container\">\n",
              "      <div>\n",
              "<style scoped>\n",
              "    .dataframe tbody tr th:only-of-type {\n",
              "        vertical-align: middle;\n",
              "    }\n",
              "\n",
              "    .dataframe tbody tr th {\n",
              "        vertical-align: top;\n",
              "    }\n",
              "\n",
              "    .dataframe thead th {\n",
              "        text-align: right;\n",
              "    }\n",
              "</style>\n",
              "<table border=\"1\" class=\"dataframe\">\n",
              "  <thead>\n",
              "    <tr style=\"text-align: right;\">\n",
              "      <th></th>\n",
              "      <th></th>\n",
              "      <th>converted</th>\n",
              "    </tr>\n",
              "    <tr>\n",
              "      <th>group</th>\n",
              "      <th>converted</th>\n",
              "      <th></th>\n",
              "    </tr>\n",
              "  </thead>\n",
              "  <tbody>\n",
              "    <tr>\n",
              "      <th rowspan=\"2\" valign=\"top\">control</th>\n",
              "      <th>no</th>\n",
              "      <td>29</td>\n",
              "    </tr>\n",
              "    <tr>\n",
              "      <th>yes</th>\n",
              "      <td>21</td>\n",
              "    </tr>\n",
              "    <tr>\n",
              "      <th rowspan=\"2\" valign=\"top\">treatment</th>\n",
              "      <th>no</th>\n",
              "      <td>17</td>\n",
              "    </tr>\n",
              "    <tr>\n",
              "      <th>yes</th>\n",
              "      <td>33</td>\n",
              "    </tr>\n",
              "  </tbody>\n",
              "</table>\n",
              "</div>\n",
              "      <button class=\"colab-df-convert\" onclick=\"convertToInteractive('df-b2c0bfe6-834b-4135-8978-7dcf807fcc8c')\"\n",
              "              title=\"Convert this dataframe to an interactive table.\"\n",
              "              style=\"display:none;\">\n",
              "        \n",
              "  <svg xmlns=\"http://www.w3.org/2000/svg\" height=\"24px\"viewBox=\"0 0 24 24\"\n",
              "       width=\"24px\">\n",
              "    <path d=\"M0 0h24v24H0V0z\" fill=\"none\"/>\n",
              "    <path d=\"M18.56 5.44l.94 2.06.94-2.06 2.06-.94-2.06-.94-.94-2.06-.94 2.06-2.06.94zm-11 1L8.5 8.5l.94-2.06 2.06-.94-2.06-.94L8.5 2.5l-.94 2.06-2.06.94zm10 10l.94 2.06.94-2.06 2.06-.94-2.06-.94-.94-2.06-.94 2.06-2.06.94z\"/><path d=\"M17.41 7.96l-1.37-1.37c-.4-.4-.92-.59-1.43-.59-.52 0-1.04.2-1.43.59L10.3 9.45l-7.72 7.72c-.78.78-.78 2.05 0 2.83L4 21.41c.39.39.9.59 1.41.59.51 0 1.02-.2 1.41-.59l7.78-7.78 2.81-2.81c.8-.78.8-2.07 0-2.86zM5.41 20L4 18.59l7.72-7.72 1.47 1.35L5.41 20z\"/>\n",
              "  </svg>\n",
              "      </button>\n",
              "      \n",
              "  <style>\n",
              "    .colab-df-container {\n",
              "      display:flex;\n",
              "      flex-wrap:wrap;\n",
              "      gap: 12px;\n",
              "    }\n",
              "\n",
              "    .colab-df-convert {\n",
              "      background-color: #E8F0FE;\n",
              "      border: none;\n",
              "      border-radius: 50%;\n",
              "      cursor: pointer;\n",
              "      display: none;\n",
              "      fill: #1967D2;\n",
              "      height: 32px;\n",
              "      padding: 0 0 0 0;\n",
              "      width: 32px;\n",
              "    }\n",
              "\n",
              "    .colab-df-convert:hover {\n",
              "      background-color: #E2EBFA;\n",
              "      box-shadow: 0px 1px 2px rgba(60, 64, 67, 0.3), 0px 1px 3px 1px rgba(60, 64, 67, 0.15);\n",
              "      fill: #174EA6;\n",
              "    }\n",
              "\n",
              "    [theme=dark] .colab-df-convert {\n",
              "      background-color: #3B4455;\n",
              "      fill: #D2E3FC;\n",
              "    }\n",
              "\n",
              "    [theme=dark] .colab-df-convert:hover {\n",
              "      background-color: #434B5C;\n",
              "      box-shadow: 0px 1px 3px 1px rgba(0, 0, 0, 0.15);\n",
              "      filter: drop-shadow(0px 1px 2px rgba(0, 0, 0, 0.3));\n",
              "      fill: #FFFFFF;\n",
              "    }\n",
              "  </style>\n",
              "\n",
              "      <script>\n",
              "        const buttonEl =\n",
              "          document.querySelector('#df-b2c0bfe6-834b-4135-8978-7dcf807fcc8c button.colab-df-convert');\n",
              "        buttonEl.style.display =\n",
              "          google.colab.kernel.accessAllowed ? 'block' : 'none';\n",
              "\n",
              "        async function convertToInteractive(key) {\n",
              "          const element = document.querySelector('#df-b2c0bfe6-834b-4135-8978-7dcf807fcc8c');\n",
              "          const dataTable =\n",
              "            await google.colab.kernel.invokeFunction('convertToInteractive',\n",
              "                                                     [key], {});\n",
              "          if (!dataTable) return;\n",
              "\n",
              "          const docLinkHtml = 'Like what you see? Visit the ' +\n",
              "            '<a target=\"_blank\" href=https://colab.research.google.com/notebooks/data_table.ipynb>data table notebook</a>'\n",
              "            + ' to learn more about interactive tables.';\n",
              "          element.innerHTML = '';\n",
              "          dataTable['output_type'] = 'display_data';\n",
              "          await google.colab.output.renderOutput(dataTable, element);\n",
              "          const docLink = document.createElement('div');\n",
              "          docLink.innerHTML = docLinkHtml;\n",
              "          element.appendChild(docLink);\n",
              "        }\n",
              "      </script>\n",
              "    </div>\n",
              "  </div>\n",
              "  "
            ]
          },
          "metadata": {},
          "execution_count": 25
        },
        {
          "output_type": "display_data",
          "data": {
            "text/plain": [
              "<Figure size 432x288 with 1 Axes>"
            ],
            "image/png": "[encoded data removed]"
          },
          "metadata": {
            "needs_background": "light"
          }
        }
      ],
      "source": [
        "sns.countplot(data=df, x='group', hue = 'converted')\n",
        "plt.legend(fontsize= 'small')\n",
        "plt.legend(loc='lower right')\n",
        "plt.title('Count plot: Group Count and Conversion');\n",
        "\n",
        "df.groupby(['group','converted'])[['converted']].count()\n"
      ]
    },
    {
      "cell_type": "markdown",
      "id": "ad250037",
      "metadata": {
        "id": "ad250037"
      },
      "source": [
        "Before, the old landing page 'no' conversion was higher, however, with the new landing page 'no ' conversion decreased by 41.38%. For the'yes' conversion the count increased 57.14%. "
      ]
    },
    {
      "cell_type": "markdown",
      "id": "27906576",
      "metadata": {
        "id": "27906576"
      },
      "source": [
        "## 1. Do the users spend more time on the new landing page than the existing landing page?"
      ]
    },
    {
      "cell_type": "markdown",
      "id": "e5fdf0c8",
      "metadata": {
        "id": "e5fdf0c8"
      },
      "source": [
        "### Perform Visual Analysis"
      ]
    },
    {
      "cell_type": "code",
      "execution_count": null,
      "id": "6eZJa41eg21n",
      "metadata": {
        "id": "6eZJa41eg21n",
        "scrolled": true,
        "outputId": "7af3e274-2509-4227-ec4d-9fd269db64ea",
        "colab": {
          "base_uri": "https://localhost:8080/",
          "height": 258
        }
      },
      "outputs": [
        {
          "output_type": "stream",
          "name": "stdout",
          "text": [
            "Max time spent on each landing pages               time_spent_on_the_page\n",
            "landing_page                        \n",
            "new                            10.71\n",
            "old                            10.30\n",
            "Min time spent on each landing pages               time_spent_on_the_page\n",
            "landing_page                        \n",
            "new                             1.65\n",
            "old                             0.19\n",
            "Mean time spent on each landing pages               time_spent_on_the_page\n",
            "landing_page                        \n",
            "new                           6.2232\n",
            "old                           4.5324\n"
          ]
        },
        {
          "output_type": "display_data",
          "data": {
            "text/plain": [
              "<Figure size 432x288 with 1 Axes>"
            ],
            "image/png": "[encoded data removed]"
          },
          "metadata": {
            "needs_background": "light"
          }
        }
      ],
      "source": [
        "sns.boxplot(data=df, x='time_spent_on_the_page', y='landing_page', showmeans=True)\n",
        "plt.title('Boxplot: Time spent on the new and old landing pages');\n",
        "print('Max time spent on each landing pages',df.groupby(['landing_page'])[['time_spent_on_the_page']].max()) # We get the max value to interprete te graphics.\n",
        "print('Min time spent on each landing pages',df.groupby(['landing_page'])[['time_spent_on_the_page']].min()) # We get the min to interprete te graphics.\n",
        "print('Mean time spent on each landing pages',df.groupby(['landing_page'])[['time_spent_on_the_page']].mean()) # We get the min to interprete te graphics."
      ]
    },
    {
      "cell_type": "markdown",
      "id": "a54042ed",
      "metadata": {
        "id": "a54042ed"
      },
      "source": [
        "We got some outliers on the \"new\" landing page.\n",
        "The new landing page has increased the median time engagement.\n",
        "The new landing page has incresed the mean time engagement from 4.53 min to 6.22 minutes (37.30%)."
      ]
    },
    {
      "cell_type": "code",
      "execution_count": null,
      "id": "ecf132c7",
      "metadata": {
        "id": "ecf132c7",
        "outputId": "f5de6910-c917-4f8e-ea76-cd45b7f9c3ef",
        "colab": {
          "base_uri": "https://localhost:8080/",
          "height": 54
        }
      },
      "outputs": [
        {
          "output_type": "display_data",
          "data": {
            "text/plain": [
              "<Figure size 432x288 with 1 Axes>"
            ],
            "image/png": "[encoded data removed]"
          },
          "metadata": {
            "needs_background": "light"
          }
        }
      ],
      "source": [
        "from scipy.stats import norm\n",
        "mean = df[\"time_spent_on_the_page\"].mean() \n",
        "std = df[\"time_spent_on_the_page\"].std()\n",
        "\n",
        "# Creating a normal distribution to compare it with our data (time_spent_on_the_page)\n",
        "density = pd.DataFrame() # create an empty DataFrame\n",
        "density[\"x\"] = np.linspace(\n",
        "    df[\"time_spent_on_the_page\"].min(), df[\"time_spent_on_the_page\"].max(), 100\n",
        ") # create an array of 100 numbers in between the min and max score range and store it in the first column of the empty DataFrame\n",
        "density[\"pdf\"] = norm.pdf(density[\"x\"], mean, std) # calculate the pdf() of the created numbers and store it in another column named 'pdf'\n",
        "\n",
        "fig, ax = plt.subplots() # create the subplot\n",
        "sns.histplot(df[\"time_spent_on_the_page\"], ax=ax, kde=True, stat=\"density\") # plot the distribution of time_spent_on_the_page using histogram\n",
        "ax.plot(density[\"x\"], density[\"pdf\"], color=\"red\") # plot the pdf of the normal distribution\n",
        "plt.title(\"Normal Distribution\")\n",
        "plt.show() "
      ]
    },
    {
      "cell_type": "markdown",
      "id": "56b3dafd",
      "metadata": {
        "id": "56b3dafd"
      },
      "source": [
        "### Step 1: Define the null and alternate hypotheses"
      ]
    },
    {
      "cell_type": "markdown",
      "id": "d2ac77ef",
      "metadata": {
        "id": "d2ac77ef"
      },
      "source": [
        "$u_1$ = mean of time spent on the old landing page\n",
        "\n",
        "$u_2$ = mean of time spent on the new landing page\n",
        "\n",
        "Null hypothesis:\n",
        "\n",
        ">$H_0:u_1 = u_2$\n",
        "\n",
        "Alternate hypothesis\n",
        "\n",
        ">$H_a: u_1 < u_2$"
      ]
    },
    {
      "cell_type": "markdown",
      "id": "c7ee4907",
      "metadata": {
        "id": "c7ee4907"
      },
      "source": [
        "### Step 2: Select Appropriate test"
      ]
    },
    {
      "cell_type": "markdown",
      "id": "4ba17536",
      "metadata": {
        "id": "4ba17536"
      },
      "source": [
        "2 sample independent t test:\n",
        "\n",
        "- Continuous data - Yes (time spent on landing pages).\n",
        "- Normally distributed populations - Yes, graph shows a normal distribution.\n",
        "- Independent populations - The two samples are from independent populations.\n",
        "- Standar deviations are not given (unknown).\n",
        "- Random sampling from the population - Yes, we are assuming that the collected samples  are random sampled."
      ]
    },
    {
      "cell_type": "markdown",
      "id": "2c183cd7",
      "metadata": {
        "id": "2c183cd7"
      },
      "source": []
    },
    {
      "cell_type": "markdown",
      "id": "3f58c9a7",
      "metadata": {
        "id": "3f58c9a7"
      },
      "source": [
        "### Step 3: Decide the significance level"
      ]
    },
    {
      "cell_type": "markdown",
      "id": "a1813f94",
      "metadata": {
        "id": "a1813f94"
      },
      "source": [
        "Here, we select α= 0.05."
      ]
    },
    {
      "cell_type": "code",
      "execution_count": null,
      "id": "bac8cee4",
      "metadata": {
        "id": "bac8cee4",
        "outputId": "30afd52b-ef91-4c23-a1a5-ddc6eb782d59",
        "colab": {
          "base_uri": "https://localhost:8080/"
        }
      },
      "outputs": [
        {
          "output_type": "stream",
          "name": "stdout",
          "text": [
            "Significal level is: 1.6448536269514722\n"
          ]
        }
      ],
      "source": [
        "from scipy.stats import norm\n",
        "critical_val1 = norm.ppf(1-.05) # One tail\n",
        "\n",
        "print(\"Significal level is:\",critical_val1)"
      ]
    },
    {
      "cell_type": "markdown",
      "id": "5fed2eac",
      "metadata": {
        "id": "5fed2eac"
      },
      "source": [
        "### Step 4: Collect and prepare data"
      ]
    },
    {
      "cell_type": "code",
      "execution_count": null,
      "id": "bc77fdfa",
      "metadata": {
        "id": "bc77fdfa"
      },
      "outputs": [],
      "source": [
        "# New DF where time spent on the new and old landing page are each respectivly in their own columns\n",
        "old_lp = df[df['landing_page'] == 'old']\n",
        "old_lp.reset_index(inplace=True)\n",
        "new_lp = df[df['landing_page'] == 'new']\n",
        "new_lp.reset_index(inplace=True)"
      ]
    },
    {
      "cell_type": "code",
      "execution_count": null,
      "id": "4d4b5ec8",
      "metadata": {
        "id": "4d4b5ec8"
      },
      "outputs": [],
      "source": [
        "old_new_sample = pd.DataFrame()\n",
        "old_new_sample['Time_new_lp'] = new_lp['time_spent_on_the_page']\n",
        "old_new_sample['Time_old_lp'] = old_lp['time_spent_on_the_page']\n"
      ]
    },
    {
      "cell_type": "code",
      "execution_count": null,
      "id": "1e01e664",
      "metadata": {
        "id": "1e01e664",
        "outputId": "e3f090aa-47d6-48c4-f763-bd5112be1e40",
        "colab": {
          "base_uri": "https://localhost:8080/"
        }
      },
      "outputs": [
        {
          "output_type": "stream",
          "name": "stdout",
          "text": [
            "The mean time spent on the old landing page is 4.53\n",
            "The mean time spent on the new landing page is 6.22\n",
            "The standard deviation of time spent on the old landing page is 2.58\n",
            "The standard deviation of time spent on the new landing page is 1.82\n"
          ]
        }
      ],
      "source": [
        "# find the sample means and sample standard deviations for the two samples\n",
        "print('The mean time spent on the old landing page is ' + str(round(old_lp['time_spent_on_the_page'].mean(),2)))\n",
        "print('The mean time spent on the new landing page is ' + str(round(new_lp['time_spent_on_the_page'].mean(),2)))\n",
        "print('The standard deviation of time spent on the old landing page is ' + str(round(old_lp['time_spent_on_the_page'].std(),2)))\n",
        "print('The standard deviation of time spent on the new landing page is ' + str(round(new_lp['time_spent_on_the_page'].std(),2)))"
      ]
    },
    {
      "cell_type": "markdown",
      "id": "f5c5258d",
      "metadata": {
        "id": "f5c5258d"
      },
      "source": [
        "### Step 5: Calculate the p-value"
      ]
    },
    {
      "cell_type": "code",
      "execution_count": null,
      "id": "faf8f46f",
      "metadata": {
        "id": "faf8f46f",
        "outputId": "607a4c84-4029-4ebe-c833-e3390a2a6e15",
        "colab": {
          "base_uri": "https://localhost:8080/"
        }
      },
      "outputs": [
        {
          "output_type": "stream",
          "name": "stdout",
          "text": [
            "The p-value is 0.0001316123528095005\n"
          ]
        }
      ],
      "source": [
        "#import the required functions\n",
        "from scipy.stats import ttest_ind\n",
        "test_stat, p_value = ttest_ind(old_new_sample['Time_old_lp'], old_new_sample['Time_new_lp'], equal_var = True, alternative = 'less')\n",
        "print('The p-value is ' + str(p_value))"
      ]
    },
    {
      "cell_type": "markdown",
      "id": "359b12f8",
      "metadata": {
        "id": "359b12f8"
      },
      "source": [
        "### Step 6: Compare the p-value with $\\alpha$"
      ]
    },
    {
      "cell_type": "code",
      "execution_count": null,
      "id": "8eec9df4",
      "metadata": {
        "id": "8eec9df4",
        "outputId": "75ebc4dc-7091-458a-957b-b709d787833d",
        "colab": {
          "base_uri": "https://localhost:8080/"
        }
      },
      "outputs": [
        {
          "output_type": "stream",
          "name": "stdout",
          "text": [
            "As the p-value 0.0001316123528095005 is less than the level of significance, we reject the null hypothesis.\n"
          ]
        }
      ],
      "source": [
        "if p_value < 0.05:\n",
        "    print(f'As the p-value {p_value} is less than the level of significance, we reject the null hypothesis.')\n",
        "else:\n",
        "    print(f'As the p-value {p_value} is greater than the level of significance, we fail to reject the null hypothesis.')"
      ]
    },
    {
      "cell_type": "markdown",
      "id": "d9affc84",
      "metadata": {
        "id": "d9affc84"
      },
      "source": [
        "### Step 7:  Draw inference"
      ]
    },
    {
      "cell_type": "markdown",
      "id": "1928a3f7",
      "metadata": {
        "id": "1928a3f7"
      },
      "source": [
        "Since the p_value is < 0.05, we can reject the null hypothesis. Hence, we have enough statistical evidence to say that the mean of time spent on the new landing page is higher."
      ]
    },
    {
      "cell_type": "markdown",
      "id": "1ad0823a",
      "metadata": {
        "id": "1ad0823a"
      },
      "source": [
        "**A similar approach can be followed to answer the other questions.**"
      ]
    },
    {
      "cell_type": "markdown",
      "id": "353e9d24",
      "metadata": {
        "id": "353e9d24"
      },
      "source": [
        "## 2. Is the conversion rate (the proportion of users who visit the landing page and get converted) for the new page greater than the conversion rate for the old page?"
      ]
    },
    {
      "cell_type": "markdown",
      "id": "ed60bc11",
      "metadata": {
        "id": "ed60bc11"
      },
      "source": [
        "### Visual Analysis"
      ]
    },
    {
      "cell_type": "code",
      "execution_count": null,
      "id": "bac3f0dd",
      "metadata": {
        "scrolled": true,
        "id": "bac3f0dd",
        "outputId": "02b94e1c-423a-4086-cccb-12e2bf62ea3f",
        "colab": {
          "base_uri": "https://localhost:8080/",
          "height": 285
        }
      },
      "outputs": [
        {
          "output_type": "execute_result",
          "data": {
            "text/plain": [
              "                     converted\n",
              "group     converted           \n",
              "control   no                29\n",
              "          yes               21\n",
              "treatment no                17\n",
              "          yes               33"
            ],
            "text/html": [
              "\n",
              "  <div id=\"df-0cf135f9-f492-4aba-81e8-7c059ed59808\">\n",
              "    <div class=\"colab-df-container\">\n",
              "      <div>\n",
              "<style scoped>\n",
              "    .dataframe tbody tr th:only-of-type {\n",
              "        vertical-align: middle;\n",
              "    }\n",
              "\n",
              "    .dataframe tbody tr th {\n",
              "        vertical-align: top;\n",
              "    }\n",
              "\n",
              "    .dataframe thead th {\n",
              "        text-align: right;\n",
              "    }\n",
              "</style>\n",
              "<table border=\"1\" class=\"dataframe\">\n",
              "  <thead>\n",
              "    <tr style=\"text-align: right;\">\n",
              "      <th></th>\n",
              "      <th></th>\n",
              "      <th>converted</th>\n",
              "    </tr>\n",
              "    <tr>\n",
              "      <th>group</th>\n",
              "      <th>converted</th>\n",
              "      <th></th>\n",
              "    </tr>\n",
              "  </thead>\n",
              "  <tbody>\n",
              "    <tr>\n",
              "      <th rowspan=\"2\" valign=\"top\">control</th>\n",
              "      <th>no</th>\n",
              "      <td>29</td>\n",
              "    </tr>\n",
              "    <tr>\n",
              "      <th>yes</th>\n",
              "      <td>21</td>\n",
              "    </tr>\n",
              "    <tr>\n",
              "      <th rowspan=\"2\" valign=\"top\">treatment</th>\n",
              "      <th>no</th>\n",
              "      <td>17</td>\n",
              "    </tr>\n",
              "    <tr>\n",
              "      <th>yes</th>\n",
              "      <td>33</td>\n",
              "    </tr>\n",
              "  </tbody>\n",
              "</table>\n",
              "</div>\n",
              "      <button class=\"colab-df-convert\" onclick=\"convertToInteractive('df-0cf135f9-f492-4aba-81e8-7c059ed59808')\"\n",
              "              title=\"Convert this dataframe to an interactive table.\"\n",
              "              style=\"display:none;\">\n",
              "        \n",
              "  <svg xmlns=\"http://www.w3.org/2000/svg\" height=\"24px\"viewBox=\"0 0 24 24\"\n",
              "       width=\"24px\">\n",
              "    <path d=\"M0 0h24v24H0V0z\" fill=\"none\"/>\n",
              "    <path d=\"M18.56 5.44l.94 2.06.94-2.06 2.06-.94-2.06-.94-.94-2.06-.94 2.06-2.06.94zm-11 1L8.5 8.5l.94-2.06 2.06-.94-2.06-.94L8.5 2.5l-.94 2.06-2.06.94zm10 10l.94 2.06.94-2.06 2.06-.94-2.06-.94-.94-2.06-.94 2.06-2.06.94z\"/><path d=\"M17.41 7.96l-1.37-1.37c-.4-.4-.92-.59-1.43-.59-.52 0-1.04.2-1.43.59L10.3 9.45l-7.72 7.72c-.78.78-.78 2.05 0 2.83L4 21.41c.39.39.9.59 1.41.59.51 0 1.02-.2 1.41-.59l7.78-7.78 2.81-2.81c.8-.78.8-2.07 0-2.86zM5.41 20L4 18.59l7.72-7.72 1.47 1.35L5.41 20z\"/>\n",
              "  </svg>\n",
              "      </button>\n",
              "      \n",
              "  <style>\n",
              "    .colab-df-container {\n",
              "      display:flex;\n",
              "      flex-wrap:wrap;\n",
              "      gap: 12px;\n",
              "    }\n",
              "\n",
              "    .colab-df-convert {\n",
              "      background-color: #E8F0FE;\n",
              "      border: none;\n",
              "      border-radius: 50%;\n",
              "      cursor: pointer;\n",
              "      display: none;\n",
              "      fill: #1967D2;\n",
              "      height: 32px;\n",
              "      padding: 0 0 0 0;\n",
              "      width: 32px;\n",
              "    }\n",
              "\n",
              "    .colab-df-convert:hover {\n",
              "      background-color: #E2EBFA;\n",
              "      box-shadow: 0px 1px 2px rgba(60, 64, 67, 0.3), 0px 1px 3px 1px rgba(60, 64, 67, 0.15);\n",
              "      fill: #174EA6;\n",
              "    }\n",
              "\n",
              "    [theme=dark] .colab-df-convert {\n",
              "      background-color: #3B4455;\n",
              "      fill: #D2E3FC;\n",
              "    }\n",
              "\n",
              "    [theme=dark] .colab-df-convert:hover {\n",
              "      background-color: #434B5C;\n",
              "      box-shadow: 0px 1px 3px 1px rgba(0, 0, 0, 0.15);\n",
              "      filter: drop-shadow(0px 1px 2px rgba(0, 0, 0, 0.3));\n",
              "      fill: #FFFFFF;\n",
              "    }\n",
              "  </style>\n",
              "\n",
              "      <script>\n",
              "        const buttonEl =\n",
              "          document.querySelector('#df-0cf135f9-f492-4aba-81e8-7c059ed59808 button.colab-df-convert');\n",
              "        buttonEl.style.display =\n",
              "          google.colab.kernel.accessAllowed ? 'block' : 'none';\n",
              "\n",
              "        async function convertToInteractive(key) {\n",
              "          const element = document.querySelector('#df-0cf135f9-f492-4aba-81e8-7c059ed59808');\n",
              "          const dataTable =\n",
              "            await google.colab.kernel.invokeFunction('convertToInteractive',\n",
              "                                                     [key], {});\n",
              "          if (!dataTable) return;\n",
              "\n",
              "          const docLinkHtml = 'Like what you see? Visit the ' +\n",
              "            '<a target=\"_blank\" href=https://colab.research.google.com/notebooks/data_table.ipynb>data table notebook</a>'\n",
              "            + ' to learn more about interactive tables.';\n",
              "          element.innerHTML = '';\n",
              "          dataTable['output_type'] = 'display_data';\n",
              "          await google.colab.output.renderOutput(dataTable, element);\n",
              "          const docLink = document.createElement('div');\n",
              "          docLink.innerHTML = docLinkHtml;\n",
              "          element.appendChild(docLink);\n",
              "        }\n",
              "      </script>\n",
              "    </div>\n",
              "  </div>\n",
              "  "
            ]
          },
          "metadata": {},
          "execution_count": 34
        },
        {
          "output_type": "display_data",
          "data": {
            "text/plain": [
              "<Figure size 432x288 with 1 Axes>"
            ],
            "image/png": "[encoded data removed]"
          },
          "metadata": {
            "needs_background": "light"
          }
        }
      ],
      "source": [
        "sns.countplot(data=df, x='group', hue = 'converted')\n",
        "plt.legend(fontsize= 'small')\n",
        "plt.legend(loc='lower right')\n",
        "plt.title('Count plot: Group Count and Conversion');\n",
        "\n",
        "df.groupby(['group','converted'])[['converted']].count()\n",
        "\n"
      ]
    },
    {
      "cell_type": "markdown",
      "id": "9f129f10",
      "metadata": {
        "id": "9f129f10"
      },
      "source": [
        "The new landing page seems to have a higer conversion. From 21 converting on the old landing page to 33 converting on the new landing page there is a 50% increase in conversions between landing pages. 'No' conversions decreased in 41.37%."
      ]
    },
    {
      "cell_type": "markdown",
      "id": "b89b7950",
      "metadata": {
        "id": "b89b7950"
      },
      "source": [
        "### Step 1: Define the null and alternate hypotheses"
      ]
    },
    {
      "cell_type": "markdown",
      "id": "9d522bda",
      "metadata": {
        "id": "9d522bda"
      },
      "source": [
        "$p_1$ = proportion of convertions with old landing page\n",
        "\n",
        "$p_2$ = proportion of convertions with new landing page\n",
        "\n",
        "Null hypothesis:\n",
        "\n",
        ">$H_0:p_1 = p_2$\n",
        "\n",
        "Alternate hypothesis\n",
        "\n",
        ">$H_a: p_1 < p_2$"
      ]
    },
    {
      "cell_type": "markdown",
      "id": "a77f87ec",
      "metadata": {
        "id": "a77f87ec"
      },
      "source": [
        "### Step 2: Select Appropriate test"
      ]
    },
    {
      "cell_type": "markdown",
      "id": "03298fe1",
      "metadata": {
        "id": "03298fe1"
      },
      "source": [
        "The formulated hypotheses can be tested using Two proportion Z-test concering the convertion rate of the new landing page and the old landig page. \n",
        "\n",
        "- Binomally distributed population - Yes, the results are: Yes (conveted) or no (converted).\n",
        "- Random sampling from the population - Yes, we are informed that the collected sample is a simple random sample.\n",
        "- Can the binomial distribution approximated to normal distribution - Yes. The np and n(1-p) are greater than or equal to 10. "
      ]
    },
    {
      "cell_type": "code",
      "execution_count": null,
      "id": "537a3206",
      "metadata": {
        "id": "537a3206",
        "outputId": "a162c825-7018-4725-e794-f370df1eca67",
        "colab": {
          "base_uri": "https://localhost:8080/",
          "height": 237
        }
      },
      "outputs": [
        {
          "output_type": "execute_result",
          "data": {
            "text/plain": [
              "landing_page  new  old  All\n",
              "converted                  \n",
              "no             17   29   46\n",
              "yes            33   21   54\n",
              "All            50   50  100"
            ],
            "text/html": [
              "\n",
              "  <div id=\"df-dee19b35-4be6-4c6c-a6c1-8049acee47cf\">\n",
              "    <div class=\"colab-df-container\">\n",
              "      <div>\n",
              "<style scoped>\n",
              "    .dataframe tbody tr th:only-of-type {\n",
              "        vertical-align: middle;\n",
              "    }\n",
              "\n",
              "    .dataframe tbody tr th {\n",
              "        vertical-align: top;\n",
              "    }\n",
              "\n",
              "    .dataframe thead th {\n",
              "        text-align: right;\n",
              "    }\n",
              "</style>\n",
              "<table border=\"1\" class=\"dataframe\">\n",
              "  <thead>\n",
              "    <tr style=\"text-align: right;\">\n",
              "      <th>landing_page</th>\n",
              "      <th>new</th>\n",
              "      <th>old</th>\n",
              "      <th>All</th>\n",
              "    </tr>\n",
              "    <tr>\n",
              "      <th>converted</th>\n",
              "      <th></th>\n",
              "      <th></th>\n",
              "      <th></th>\n",
              "    </tr>\n",
              "  </thead>\n",
              "  <tbody>\n",
              "    <tr>\n",
              "      <th>no</th>\n",
              "      <td>17</td>\n",
              "      <td>29</td>\n",
              "      <td>46</td>\n",
              "    </tr>\n",
              "    <tr>\n",
              "      <th>yes</th>\n",
              "      <td>33</td>\n",
              "      <td>21</td>\n",
              "      <td>54</td>\n",
              "    </tr>\n",
              "    <tr>\n",
              "      <th>All</th>\n",
              "      <td>50</td>\n",
              "      <td>50</td>\n",
              "      <td>100</td>\n",
              "    </tr>\n",
              "  </tbody>\n",
              "</table>\n",
              "</div>\n",
              "      <button class=\"colab-df-convert\" onclick=\"convertToInteractive('df-dee19b35-4be6-4c6c-a6c1-8049acee47cf')\"\n",
              "              title=\"Convert this dataframe to an interactive table.\"\n",
              "              style=\"display:none;\">\n",
              "        \n",
              "  <svg xmlns=\"http://www.w3.org/2000/svg\" height=\"24px\"viewBox=\"0 0 24 24\"\n",
              "       width=\"24px\">\n",
              "    <path d=\"M0 0h24v24H0V0z\" fill=\"none\"/>\n",
              "    <path d=\"M18.56 5.44l.94 2.06.94-2.06 2.06-.94-2.06-.94-.94-2.06-.94 2.06-2.06.94zm-11 1L8.5 8.5l.94-2.06 2.06-.94-2.06-.94L8.5 2.5l-.94 2.06-2.06.94zm10 10l.94 2.06.94-2.06 2.06-.94-2.06-.94-.94-2.06-.94 2.06-2.06.94z\"/><path d=\"M17.41 7.96l-1.37-1.37c-.4-.4-.92-.59-1.43-.59-.52 0-1.04.2-1.43.59L10.3 9.45l-7.72 7.72c-.78.78-.78 2.05 0 2.83L4 21.41c.39.39.9.59 1.41.59.51 0 1.02-.2 1.41-.59l7.78-7.78 2.81-2.81c.8-.78.8-2.07 0-2.86zM5.41 20L4 18.59l7.72-7.72 1.47 1.35L5.41 20z\"/>\n",
              "  </svg>\n",
              "      </button>\n",
              "      \n",
              "  <style>\n",
              "    .colab-df-container {\n",
              "      display:flex;\n",
              "      flex-wrap:wrap;\n",
              "      gap: 12px;\n",
              "    }\n",
              "\n",
              "    .colab-df-convert {\n",
              "      background-color: #E8F0FE;\n",
              "      border: none;\n",
              "      border-radius: 50%;\n",
              "      cursor: pointer;\n",
              "      display: none;\n",
              "      fill: #1967D2;\n",
              "      height: 32px;\n",
              "      padding: 0 0 0 0;\n",
              "      width: 32px;\n",
              "    }\n",
              "\n",
              "    .colab-df-convert:hover {\n",
              "      background-color: #E2EBFA;\n",
              "      box-shadow: 0px 1px 2px rgba(60, 64, 67, 0.3), 0px 1px 3px 1px rgba(60, 64, 67, 0.15);\n",
              "      fill: #174EA6;\n",
              "    }\n",
              "\n",
              "    [theme=dark] .colab-df-convert {\n",
              "      background-color: #3B4455;\n",
              "      fill: #D2E3FC;\n",
              "    }\n",
              "\n",
              "    [theme=dark] .colab-df-convert:hover {\n",
              "      background-color: #434B5C;\n",
              "      box-shadow: 0px 1px 3px 1px rgba(0, 0, 0, 0.15);\n",
              "      filter: drop-shadow(0px 1px 2px rgba(0, 0, 0, 0.3));\n",
              "      fill: #FFFFFF;\n",
              "    }\n",
              "  </style>\n",
              "\n",
              "      <script>\n",
              "        const buttonEl =\n",
              "          document.querySelector('#df-dee19b35-4be6-4c6c-a6c1-8049acee47cf button.colab-df-convert');\n",
              "        buttonEl.style.display =\n",
              "          google.colab.kernel.accessAllowed ? 'block' : 'none';\n",
              "\n",
              "        async function convertToInteractive(key) {\n",
              "          const element = document.querySelector('#df-dee19b35-4be6-4c6c-a6c1-8049acee47cf');\n",
              "          const dataTable =\n",
              "            await google.colab.kernel.invokeFunction('convertToInteractive',\n",
              "                                                     [key], {});\n",
              "          if (!dataTable) return;\n",
              "\n",
              "          const docLinkHtml = 'Like what you see? Visit the ' +\n",
              "            '<a target=\"_blank\" href=https://colab.research.google.com/notebooks/data_table.ipynb>data table notebook</a>'\n",
              "            + ' to learn more about interactive tables.';\n",
              "          element.innerHTML = '';\n",
              "          dataTable['output_type'] = 'display_data';\n",
              "          await google.colab.output.renderOutput(dataTable, element);\n",
              "          const docLink = document.createElement('div');\n",
              "          docLink.innerHTML = docLinkHtml;\n",
              "          element.appendChild(docLink);\n",
              "        }\n",
              "      </script>\n",
              "    </div>\n",
              "  </div>\n",
              "  "
            ]
          },
          "metadata": {},
          "execution_count": 35
        }
      ],
      "source": [
        "contingency_table = pd.crosstab(df['converted'],df['landing_page'], margins=True)\n",
        "contingency_table"
      ]
    },
    {
      "cell_type": "code",
      "execution_count": null,
      "id": "52a63597",
      "metadata": {
        "id": "52a63597",
        "outputId": "fd1231db-f908-4871-a62b-d43ec946cbdd",
        "colab": {
          "base_uri": "https://localhost:8080/"
        }
      },
      "outputs": [
        {
          "output_type": "execute_result",
          "data": {
            "text/plain": [
              "{'new': 0.66, 'old': 0.42}"
            ]
          },
          "metadata": {},
          "execution_count": 36
        }
      ],
      "source": [
        "conv_rate = {'new': 33/50, 'old':21/50}\n",
        "conv_rate"
      ]
    },
    {
      "cell_type": "markdown",
      "id": "a47eeb1b",
      "metadata": {
        "id": "a47eeb1b"
      },
      "source": [
        "Assumptions are satisfied:\n",
        "\n",
        "$np_1 = 50\\cdot \\frac{21}{50} =21 \\geq 10\\\\\n",
        "n(1-p_1) = 50 \\cdot \\frac{50-21}{50} =29 \\geq 10 \\\\\n",
        "np_2 = 50\\cdot \\frac{33}{50} =33 \\geq 10\\\\\n",
        "n(1-p_2) = 50 \\cdot \\frac{50-33}{50} = 17 \\geq 10 $"
      ]
    },
    {
      "cell_type": "markdown",
      "id": "6240b7b4",
      "metadata": {
        "id": "6240b7b4"
      },
      "source": [
        "### Step 3: Decide the significance level"
      ]
    },
    {
      "cell_type": "markdown",
      "id": "c53f8c52",
      "metadata": {
        "id": "c53f8c52"
      },
      "source": [
        "Here, we select α= 0.05."
      ]
    },
    {
      "cell_type": "code",
      "execution_count": null,
      "id": "42d6b348",
      "metadata": {
        "id": "42d6b348",
        "outputId": "9ceb9c3f-a6b7-42a5-febe-fa2ce7d7ff03",
        "colab": {
          "base_uri": "https://localhost:8080/"
        }
      },
      "outputs": [
        {
          "output_type": "stream",
          "name": "stdout",
          "text": [
            "Significal level is: 1.6448536269514722\n"
          ]
        }
      ],
      "source": [
        "critical_val1 = norm.ppf(1-.05) # One tail \n",
        "\n",
        "print(\"Significal level is:\",critical_val1)"
      ]
    },
    {
      "cell_type": "markdown",
      "id": "9ddc37aa",
      "metadata": {
        "id": "9ddc37aa"
      },
      "source": [
        "### Step 4: Collect and prepare data"
      ]
    },
    {
      "cell_type": "code",
      "execution_count": null,
      "id": "f5a59495",
      "metadata": {
        "id": "f5a59495"
      },
      "outputs": [],
      "source": [
        "from statsmodels.stats.proportion import proportions_ztest\n",
        "\n",
        "# set the counts of defective items\n",
        "convertion_count = np.array([21, 33])\n",
        "\n",
        "# set the sample sizes\n",
        "nobs = np.array([50, 50])"
      ]
    },
    {
      "cell_type": "markdown",
      "id": "d088ac7d",
      "metadata": {
        "id": "d088ac7d"
      },
      "source": [
        "### Step 5: Calculate the p-value"
      ]
    },
    {
      "cell_type": "code",
      "execution_count": null,
      "id": "fac8594a",
      "metadata": {
        "id": "fac8594a",
        "outputId": "6b6d7418-754d-4831-993d-e02601291cfe",
        "colab": {
          "base_uri": "https://localhost:8080/"
        }
      },
      "outputs": [
        {
          "output_type": "stream",
          "name": "stdout",
          "text": [
            "The p-value is 0.008026308204056278\n"
          ]
        }
      ],
      "source": [
        "test_stat, p_value = proportions_ztest(convertion_count, nobs, alternative = 'smaller')\n",
        "print('The p-value is ' + str(p_value))"
      ]
    },
    {
      "cell_type": "markdown",
      "id": "f81b0f3b",
      "metadata": {
        "id": "f81b0f3b"
      },
      "source": [
        "### Step 6: Compare the p-value with $\\alpha$"
      ]
    },
    {
      "cell_type": "code",
      "execution_count": null,
      "id": "7be47289",
      "metadata": {
        "id": "7be47289",
        "outputId": "4e524d85-4a63-4706-ea4e-cd50e29b89a1",
        "colab": {
          "base_uri": "https://localhost:8080/"
        }
      },
      "outputs": [
        {
          "output_type": "stream",
          "name": "stdout",
          "text": [
            "As the p-value 0.008026308204056278 is less than the level of significance, we reject the null hypothesis.\n"
          ]
        }
      ],
      "source": [
        "if p_value < 0.05:\n",
        "    print(f'As the p-value {p_value} is less than the level of significance, we reject the null hypothesis.')\n",
        "else:\n",
        "    print(f'As the p-value {p_value} is greater than the level of significance, we fail to reject the null hypothesis.')"
      ]
    },
    {
      "cell_type": "markdown",
      "id": "8e45ef2d",
      "metadata": {
        "id": "8e45ef2d"
      },
      "source": [
        "### Step 7:  Draw inference"
      ]
    },
    {
      "cell_type": "markdown",
      "id": "1f799a25",
      "metadata": {
        "id": "1f799a25"
      },
      "source": [
        "Since the `p_value` is < 0.05, we can reject the null hypothesis. Hence, we have enough statistical evidence to say that the new landing page has a higher convertion rate."
      ]
    },
    {
      "cell_type": "markdown",
      "id": "d49bfa2d",
      "metadata": {
        "id": "d49bfa2d"
      },
      "source": [
        "## 3. Is the conversion and preferred language are independent or related?"
      ]
    },
    {
      "cell_type": "markdown",
      "id": "0b978b00",
      "metadata": {
        "id": "0b978b00"
      },
      "source": [
        "### Visual Analysis"
      ]
    },
    {
      "cell_type": "code",
      "execution_count": null,
      "id": "c3969a51",
      "metadata": {
        "id": "c3969a51",
        "outputId": "54d10789-f170-4461-cf9f-ce38f7e1dcf5",
        "colab": {
          "base_uri": "https://localhost:8080/",
          "height": 347
        }
      },
      "outputs": [
        {
          "output_type": "execute_result",
          "data": {
            "text/plain": [
              "                              language_preferred\n",
              "converted language_preferred                    \n",
              "no        English                             11\n",
              "          French                              19\n",
              "          Spanish                             16\n",
              "yes       English                             21\n",
              "          French                              15\n",
              "          Spanish                             18"
            ],
            "text/html": [
              "\n",
              "  <div id=\"df-ddf0e8e0-5480-40f2-a82a-8e077fad5028\">\n",
              "    <div class=\"colab-df-container\">\n",
              "      <div>\n",
              "<style scoped>\n",
              "    .dataframe tbody tr th:only-of-type {\n",
              "        vertical-align: middle;\n",
              "    }\n",
              "\n",
              "    .dataframe tbody tr th {\n",
              "        vertical-align: top;\n",
              "    }\n",
              "\n",
              "    .dataframe thead th {\n",
              "        text-align: right;\n",
              "    }\n",
              "</style>\n",
              "<table border=\"1\" class=\"dataframe\">\n",
              "  <thead>\n",
              "    <tr style=\"text-align: right;\">\n",
              "      <th></th>\n",
              "      <th></th>\n",
              "      <th>language_preferred</th>\n",
              "    </tr>\n",
              "    <tr>\n",
              "      <th>converted</th>\n",
              "      <th>language_preferred</th>\n",
              "      <th></th>\n",
              "    </tr>\n",
              "  </thead>\n",
              "  <tbody>\n",
              "    <tr>\n",
              "      <th rowspan=\"3\" valign=\"top\">no</th>\n",
              "      <th>English</th>\n",
              "      <td>11</td>\n",
              "    </tr>\n",
              "    <tr>\n",
              "      <th>French</th>\n",
              "      <td>19</td>\n",
              "    </tr>\n",
              "    <tr>\n",
              "      <th>Spanish</th>\n",
              "      <td>16</td>\n",
              "    </tr>\n",
              "    <tr>\n",
              "      <th rowspan=\"3\" valign=\"top\">yes</th>\n",
              "      <th>English</th>\n",
              "      <td>21</td>\n",
              "    </tr>\n",
              "    <tr>\n",
              "      <th>French</th>\n",
              "      <td>15</td>\n",
              "    </tr>\n",
              "    <tr>\n",
              "      <th>Spanish</th>\n",
              "      <td>18</td>\n",
              "    </tr>\n",
              "  </tbody>\n",
              "</table>\n",
              "</div>\n",
              "      <button class=\"colab-df-convert\" onclick=\"convertToInteractive('df-ddf0e8e0-5480-40f2-a82a-8e077fad5028')\"\n",
              "              title=\"Convert this dataframe to an interactive table.\"\n",
              "              style=\"display:none;\">\n",
              "        \n",
              "  <svg xmlns=\"http://www.w3.org/2000/svg\" height=\"24px\"viewBox=\"0 0 24 24\"\n",
              "       width=\"24px\">\n",
              "    <path d=\"M0 0h24v24H0V0z\" fill=\"none\"/>\n",
              "    <path d=\"M18.56 5.44l.94 2.06.94-2.06 2.06-.94-2.06-.94-.94-2.06-.94 2.06-2.06.94zm-11 1L8.5 8.5l.94-2.06 2.06-.94-2.06-.94L8.5 2.5l-.94 2.06-2.06.94zm10 10l.94 2.06.94-2.06 2.06-.94-2.06-.94-.94-2.06-.94 2.06-2.06.94z\"/><path d=\"M17.41 7.96l-1.37-1.37c-.4-.4-.92-.59-1.43-.59-.52 0-1.04.2-1.43.59L10.3 9.45l-7.72 7.72c-.78.78-.78 2.05 0 2.83L4 21.41c.39.39.9.59 1.41.59.51 0 1.02-.2 1.41-.59l7.78-7.78 2.81-2.81c.8-.78.8-2.07 0-2.86zM5.41 20L4 18.59l7.72-7.72 1.47 1.35L5.41 20z\"/>\n",
              "  </svg>\n",
              "      </button>\n",
              "      \n",
              "  <style>\n",
              "    .colab-df-container {\n",
              "      display:flex;\n",
              "      flex-wrap:wrap;\n",
              "      gap: 12px;\n",
              "    }\n",
              "\n",
              "    .colab-df-convert {\n",
              "      background-color: #E8F0FE;\n",
              "      border: none;\n",
              "      border-radius: 50%;\n",
              "      cursor: pointer;\n",
              "      display: none;\n",
              "      fill: #1967D2;\n",
              "      height: 32px;\n",
              "      padding: 0 0 0 0;\n",
              "      width: 32px;\n",
              "    }\n",
              "\n",
              "    .colab-df-convert:hover {\n",
              "      background-color: #E2EBFA;\n",
              "      box-shadow: 0px 1px 2px rgba(60, 64, 67, 0.3), 0px 1px 3px 1px rgba(60, 64, 67, 0.15);\n",
              "      fill: #174EA6;\n",
              "    }\n",
              "\n",
              "    [theme=dark] .colab-df-convert {\n",
              "      background-color: #3B4455;\n",
              "      fill: #D2E3FC;\n",
              "    }\n",
              "\n",
              "    [theme=dark] .colab-df-convert:hover {\n",
              "      background-color: #434B5C;\n",
              "      box-shadow: 0px 1px 3px 1px rgba(0, 0, 0, 0.15);\n",
              "      filter: drop-shadow(0px 1px 2px rgba(0, 0, 0, 0.3));\n",
              "      fill: #FFFFFF;\n",
              "    }\n",
              "  </style>\n",
              "\n",
              "      <script>\n",
              "        const buttonEl =\n",
              "          document.querySelector('#df-ddf0e8e0-5480-40f2-a82a-8e077fad5028 button.colab-df-convert');\n",
              "        buttonEl.style.display =\n",
              "          google.colab.kernel.accessAllowed ? 'block' : 'none';\n",
              "\n",
              "        async function convertToInteractive(key) {\n",
              "          const element = document.querySelector('#df-ddf0e8e0-5480-40f2-a82a-8e077fad5028');\n",
              "          const dataTable =\n",
              "            await google.colab.kernel.invokeFunction('convertToInteractive',\n",
              "                                                     [key], {});\n",
              "          if (!dataTable) return;\n",
              "\n",
              "          const docLinkHtml = 'Like what you see? Visit the ' +\n",
              "            '<a target=\"_blank\" href=https://colab.research.google.com/notebooks/data_table.ipynb>data table notebook</a>'\n",
              "            + ' to learn more about interactive tables.';\n",
              "          element.innerHTML = '';\n",
              "          dataTable['output_type'] = 'display_data';\n",
              "          await google.colab.output.renderOutput(dataTable, element);\n",
              "          const docLink = document.createElement('div');\n",
              "          docLink.innerHTML = docLinkHtml;\n",
              "          element.appendChild(docLink);\n",
              "        }\n",
              "      </script>\n",
              "    </div>\n",
              "  </div>\n",
              "  "
            ]
          },
          "metadata": {},
          "execution_count": 41
        },
        {
          "output_type": "display_data",
          "data": {
            "text/plain": [
              "<Figure size 432x288 with 1 Axes>"
            ],
            "image/png": "[encoded data removed]"
          },
          "metadata": {
            "needs_background": "light"
          }
        }
      ],
      "source": [
        "sns.countplot(data=df, x='converted', hue = 'language_preferred')\n",
        "plt.legend(fontsize= 'small')\n",
        "plt.legend(loc='lower right')\n",
        "plt.title('Count plot: Conversion Count and Preferred Language');\n",
        "\n",
        "df.groupby(['converted','language_preferred'])[['language_preferred']].count()\n",
        "\n"
      ]
    },
    {
      "cell_type": "markdown",
      "id": "a685faa2",
      "metadata": {
        "id": "a685faa2"
      },
      "source": [
        "It doesn't seem to be a dependency between preferred langage and conversion."
      ]
    },
    {
      "cell_type": "markdown",
      "id": "d51abe7c",
      "metadata": {
        "id": "d51abe7c"
      },
      "source": [
        "### Step 1: Define the null and alternate hypotheses"
      ]
    },
    {
      "cell_type": "markdown",
      "id": "2ae86faf",
      "metadata": {
        "id": "2ae86faf"
      },
      "source": [
        "Null hypothesis:\n",
        "\n",
        ">$H_0$: Convertion is independent of preferred language\n",
        "\n",
        "Alternate hypothesis\n",
        "\n",
        ">$H_a$: Convertion is dependent of preferred language"
      ]
    },
    {
      "cell_type": "markdown",
      "id": "209dca87",
      "metadata": {
        "id": "209dca87"
      },
      "source": [
        "### Step 2: Select Appropriate test"
      ]
    },
    {
      "cell_type": "markdown",
      "id": "caca99ef",
      "metadata": {
        "id": "caca99ef"
      },
      "source": [
        "Chi-Square test of independence:\n",
        "- Categorical variables - Yes: Convertion rate and preferred language\n",
        "- The number of observations in each level is greater than 5 - Yes\n",
        "- Random sampling from the population - Yes, we are assumed that the collected sample is a simple random sample."
      ]
    },
    {
      "cell_type": "markdown",
      "id": "b5abf40b",
      "metadata": {
        "id": "b5abf40b"
      },
      "source": [
        "### Step 3: Decide the significance level"
      ]
    },
    {
      "cell_type": "markdown",
      "id": "7ae311da",
      "metadata": {
        "id": "7ae311da"
      },
      "source": [
        "Here, we select α= 0.05\n",
        "\n",
        "Two tailed"
      ]
    },
    {
      "cell_type": "markdown",
      "id": "2b9ad48d",
      "metadata": {
        "id": "2b9ad48d"
      },
      "source": [
        "### Step 4: Collect and prepare data"
      ]
    },
    {
      "cell_type": "code",
      "execution_count": null,
      "id": "077729fd",
      "metadata": {
        "id": "077729fd",
        "outputId": "dd63ee7d-ded8-403d-ef49-8efbd6a0f5ca",
        "colab": {
          "base_uri": "https://localhost:8080/",
          "height": 206
        }
      },
      "outputs": [
        {
          "output_type": "execute_result",
          "data": {
            "text/plain": [
              "language_preferred  English  French  Spanish\n",
              "converted                                   \n",
              "no                       11      19       16\n",
              "yes                      21      15       18"
            ],
            "text/html": [
              "\n",
              "  <div id=\"df-4bb2dd54-cd49-434c-abc7-2e64899126ae\">\n",
              "    <div class=\"colab-df-container\">\n",
              "      <div>\n",
              "<style scoped>\n",
              "    .dataframe tbody tr th:only-of-type {\n",
              "        vertical-align: middle;\n",
              "    }\n",
              "\n",
              "    .dataframe tbody tr th {\n",
              "        vertical-align: top;\n",
              "    }\n",
              "\n",
              "    .dataframe thead th {\n",
              "        text-align: right;\n",
              "    }\n",
              "</style>\n",
              "<table border=\"1\" class=\"dataframe\">\n",
              "  <thead>\n",
              "    <tr style=\"text-align: right;\">\n",
              "      <th>language_preferred</th>\n",
              "      <th>English</th>\n",
              "      <th>French</th>\n",
              "      <th>Spanish</th>\n",
              "    </tr>\n",
              "    <tr>\n",
              "      <th>converted</th>\n",
              "      <th></th>\n",
              "      <th></th>\n",
              "      <th></th>\n",
              "    </tr>\n",
              "  </thead>\n",
              "  <tbody>\n",
              "    <tr>\n",
              "      <th>no</th>\n",
              "      <td>11</td>\n",
              "      <td>19</td>\n",
              "      <td>16</td>\n",
              "    </tr>\n",
              "    <tr>\n",
              "      <th>yes</th>\n",
              "      <td>21</td>\n",
              "      <td>15</td>\n",
              "      <td>18</td>\n",
              "    </tr>\n",
              "  </tbody>\n",
              "</table>\n",
              "</div>\n",
              "      <button class=\"colab-df-convert\" onclick=\"convertToInteractive('df-4bb2dd54-cd49-434c-abc7-2e64899126ae')\"\n",
              "              title=\"Convert this dataframe to an interactive table.\"\n",
              "              style=\"display:none;\">\n",
              "        \n",
              "  <svg xmlns=\"http://www.w3.org/2000/svg\" height=\"24px\"viewBox=\"0 0 24 24\"\n",
              "       width=\"24px\">\n",
              "    <path d=\"M0 0h24v24H0V0z\" fill=\"none\"/>\n",
              "    <path d=\"M18.56 5.44l.94 2.06.94-2.06 2.06-.94-2.06-.94-.94-2.06-.94 2.06-2.06.94zm-11 1L8.5 8.5l.94-2.06 2.06-.94-2.06-.94L8.5 2.5l-.94 2.06-2.06.94zm10 10l.94 2.06.94-2.06 2.06-.94-2.06-.94-.94-2.06-.94 2.06-2.06.94z\"/><path d=\"M17.41 7.96l-1.37-1.37c-.4-.4-.92-.59-1.43-.59-.52 0-1.04.2-1.43.59L10.3 9.45l-7.72 7.72c-.78.78-.78 2.05 0 2.83L4 21.41c.39.39.9.59 1.41.59.51 0 1.02-.2 1.41-.59l7.78-7.78 2.81-2.81c.8-.78.8-2.07 0-2.86zM5.41 20L4 18.59l7.72-7.72 1.47 1.35L5.41 20z\"/>\n",
              "  </svg>\n",
              "      </button>\n",
              "      \n",
              "  <style>\n",
              "    .colab-df-container {\n",
              "      display:flex;\n",
              "      flex-wrap:wrap;\n",
              "      gap: 12px;\n",
              "    }\n",
              "\n",
              "    .colab-df-convert {\n",
              "      background-color: #E8F0FE;\n",
              "      border: none;\n",
              "      border-radius: 50%;\n",
              "      cursor: pointer;\n",
              "      display: none;\n",
              "      fill: #1967D2;\n",
              "      height: 32px;\n",
              "      padding: 0 0 0 0;\n",
              "      width: 32px;\n",
              "    }\n",
              "\n",
              "    .colab-df-convert:hover {\n",
              "      background-color: #E2EBFA;\n",
              "      box-shadow: 0px 1px 2px rgba(60, 64, 67, 0.3), 0px 1px 3px 1px rgba(60, 64, 67, 0.15);\n",
              "      fill: #174EA6;\n",
              "    }\n",
              "\n",
              "    [theme=dark] .colab-df-convert {\n",
              "      background-color: #3B4455;\n",
              "      fill: #D2E3FC;\n",
              "    }\n",
              "\n",
              "    [theme=dark] .colab-df-convert:hover {\n",
              "      background-color: #434B5C;\n",
              "      box-shadow: 0px 1px 3px 1px rgba(0, 0, 0, 0.15);\n",
              "      filter: drop-shadow(0px 1px 2px rgba(0, 0, 0, 0.3));\n",
              "      fill: #FFFFFF;\n",
              "    }\n",
              "  </style>\n",
              "\n",
              "      <script>\n",
              "        const buttonEl =\n",
              "          document.querySelector('#df-4bb2dd54-cd49-434c-abc7-2e64899126ae button.colab-df-convert');\n",
              "        buttonEl.style.display =\n",
              "          google.colab.kernel.accessAllowed ? 'block' : 'none';\n",
              "\n",
              "        async function convertToInteractive(key) {\n",
              "          const element = document.querySelector('#df-4bb2dd54-cd49-434c-abc7-2e64899126ae');\n",
              "          const dataTable =\n",
              "            await google.colab.kernel.invokeFunction('convertToInteractive',\n",
              "                                                     [key], {});\n",
              "          if (!dataTable) return;\n",
              "\n",
              "          const docLinkHtml = 'Like what you see? Visit the ' +\n",
              "            '<a target=\"_blank\" href=https://colab.research.google.com/notebooks/data_table.ipynb>data table notebook</a>'\n",
              "            + ' to learn more about interactive tables.';\n",
              "          element.innerHTML = '';\n",
              "          dataTable['output_type'] = 'display_data';\n",
              "          await google.colab.output.renderOutput(dataTable, element);\n",
              "          const docLink = document.createElement('div');\n",
              "          docLink.innerHTML = docLinkHtml;\n",
              "          element.appendChild(docLink);\n",
              "        }\n",
              "      </script>\n",
              "    </div>\n",
              "  </div>\n",
              "  "
            ]
          },
          "metadata": {},
          "execution_count": 42
        }
      ],
      "source": [
        "contingency_table = pd.crosstab(df['converted'],df['language_preferred'])\n",
        "contingency_table"
      ]
    },
    {
      "cell_type": "markdown",
      "id": "90b67b99",
      "metadata": {
        "id": "90b67b99"
      },
      "source": [
        "### Step 5: Calculate the p-value"
      ]
    },
    {
      "cell_type": "code",
      "execution_count": null,
      "id": "a6a28e05",
      "metadata": {
        "id": "a6a28e05",
        "outputId": "c059c2fe-ffea-4793-a8ea-f916e31c4e43",
        "colab": {
          "base_uri": "https://localhost:8080/"
        }
      },
      "outputs": [
        {
          "output_type": "stream",
          "name": "stdout",
          "text": [
            "The p-value is 0.21298887487543447\n"
          ]
        }
      ],
      "source": [
        "from scipy.stats import chi2_contingency\n",
        "\n",
        "\n",
        "# find the p-value\n",
        "chi, p_value, dof, expected = chi2_contingency(contingency_table)\n",
        "print('The p-value is', p_value)"
      ]
    },
    {
      "cell_type": "markdown",
      "id": "338b725a",
      "metadata": {
        "id": "338b725a"
      },
      "source": [
        "### Step 6: Compare the p-value with $\\alpha$"
      ]
    },
    {
      "cell_type": "code",
      "execution_count": null,
      "id": "66ddbe77",
      "metadata": {
        "id": "66ddbe77",
        "outputId": "5ed0b336-1f43-48a4-dc9f-a7f47afa2b8d",
        "colab": {
          "base_uri": "https://localhost:8080/"
        }
      },
      "outputs": [
        {
          "output_type": "stream",
          "name": "stdout",
          "text": [
            "As the p-value 0.21298887487543447 is greater than the level of significance, we fail to reject the null hypothesis.\n"
          ]
        }
      ],
      "source": [
        "if p_value < 0.05:\n",
        "    print(f'As the p-value {p_value} is less than the level of significance, we reject the null hypothesis.')\n",
        "else:\n",
        "    print(f'As the p-value {p_value} is greater than the level of significance, we fail to reject the null hypothesis.')"
      ]
    },
    {
      "cell_type": "markdown",
      "id": "052c815a",
      "metadata": {
        "id": "052c815a"
      },
      "source": [
        "### Step 7:  Draw inference"
      ]
    },
    {
      "cell_type": "markdown",
      "id": "f4e72ac4",
      "metadata": {
        "id": "f4e72ac4"
      },
      "source": [
        "Since the `p_value` is > 0.05, we cannot reject the null hypothesis. Hence, we do not have enough statistical evidence to say that conversion is dependent of prefered language."
      ]
    },
    {
      "cell_type": "markdown",
      "id": "8d585a90",
      "metadata": {
        "id": "8d585a90"
      },
      "source": [
        "## 4. Is the time spent on the new page same for the different language users?"
      ]
    },
    {
      "cell_type": "markdown",
      "id": "c6b5e04a",
      "metadata": {
        "id": "c6b5e04a"
      },
      "source": [
        "### Visual Analysis"
      ]
    },
    {
      "cell_type": "code",
      "execution_count": null,
      "id": "f3540e6d",
      "metadata": {
        "id": "f3540e6d",
        "outputId": "27a7aa09-1d26-4138-b35d-4c9bbb402305",
        "colab": {
          "base_uri": "https://localhost:8080/",
          "height": 309
        }
      },
      "outputs": [
        {
          "output_type": "display_data",
          "data": {
            "text/plain": [
              "<Figure size 432x432 with 1 Axes>"
            ],
            "image/png": "[encoded data removed]"
          },
          "metadata": {
            "needs_background": "light"
          }
        },
        {
          "output_type": "stream",
          "name": "stdout",
          "text": [
            "Maximum                               time_spent_on_the_page\n",
            "group     language_preferred                        \n",
            "treatment English                              10.50\n",
            "          French                               10.71\n",
            "          Spanish                               8.08\n",
            "Minumum                               time_spent_on_the_page\n",
            "group     language_preferred                        \n",
            "treatment English                               3.65\n",
            "          French                                3.30\n",
            "          Spanish                               1.65\n",
            "Mean                               time_spent_on_the_page\n",
            "group     language_preferred                        \n",
            "treatment English                           6.663750\n",
            "          French                            6.196471\n",
            "          Spanish                           5.835294\n"
          ]
        }
      ],
      "source": [
        "# draw the boxplot for visualization \n",
        "fig, ax = plt.subplots(figsize = (6,6))\n",
        "a = sns.boxplot(x= \"language_preferred\", y = 'time_spent_on_the_page' , data = new_lp, hue = 'language_preferred', showmeans=True)\n",
        "a.set_title(\"Box plot: Time Spent on New Landing Page by Preferred Language')\", fontsize=15)\n",
        "plt.show()\n",
        "\n",
        "print('Maximum',new_lp.groupby(['group','language_preferred'])[['time_spent_on_the_page']].max())\n",
        "print('Minumum',new_lp.groupby(['group','language_preferred'])[['time_spent_on_the_page']].min())\n",
        "print('Mean',new_lp.groupby(['group','language_preferred'])[['time_spent_on_the_page']].mean())\n",
        "\n"
      ]
    },
    {
      "cell_type": "markdown",
      "id": "3d972937",
      "metadata": {
        "id": "3d972937"
      },
      "source": [
        "Behavior for the three groups changes on the new landing page in comparison to the old one. They all reduced their minimum time spent on the page and the mean time of engagement, also increased.\n",
        "For the maximum time, \"Spanish\" new landing page shows a slight decrease in time engagement (-7.34%)in comparison with the old landing page.\n",
        "The highest percentual increase for the mean time spent on the new landing page, was \"English\" with 49.66%, followed by \"French\" with 43.61%. Preferred language \"Spanish\" has a percentual increase of 20.95%."
      ]
    },
    {
      "cell_type": "markdown",
      "id": "a4392743",
      "metadata": {
        "id": "a4392743"
      },
      "source": [
        "### Step 1: Define the null and alternate hypotheses"
      ]
    },
    {
      "cell_type": "markdown",
      "id": "68f481cd",
      "metadata": {
        "id": "68f481cd"
      },
      "source": [
        "Let $\\mu_1, \\mu_2, \\mu_3$ be the mean time spent on the new page of preferred languages english, spanish, french, respectively.\n",
        "\n",
        "Null hypothesis:\n",
        "\n",
        ">$H_0: \\mu_1 = \\mu_2 = \\mu_3$\n",
        "\n",
        "Alternative hypothesis:\n",
        "\n",
        ">$H_a:$ At least one mean is different from the rest.\n",
        "\n"
      ]
    },
    {
      "cell_type": "markdown",
      "id": "8baa2159",
      "metadata": {
        "id": "8baa2159"
      },
      "source": [
        "### Step 2: Select Appropriate test"
      ]
    },
    {
      "cell_type": "markdown",
      "id": "8d1fdea1",
      "metadata": {
        "id": "8d1fdea1"
      },
      "source": [
        "One way ANOVA F-test: One descret (`time_spent_on_the_page`) and one continuous (`language_preferred`)  - Just on the New Landing Page"
      ]
    },
    {
      "cell_type": "markdown",
      "id": "395e924d",
      "metadata": {
        "id": "395e924d"
      },
      "source": [
        "### Step 3: Decide the significance level"
      ]
    },
    {
      "cell_type": "markdown",
      "id": "ca03602c",
      "metadata": {
        "id": "ca03602c"
      },
      "source": [
        "Here, we select α= 0.05.\n",
        "Two tailed"
      ]
    },
    {
      "cell_type": "markdown",
      "id": "347682c2",
      "metadata": {
        "id": "347682c2"
      },
      "source": [
        "### Step 4: Collect and prepare data"
      ]
    },
    {
      "cell_type": "markdown",
      "id": "9ba533b4",
      "metadata": {
        "id": "9ba533b4"
      },
      "source": [
        "Testing if assumptions are satisfied with \"new landing page\" data:\n",
        "\n",
        "1. Testing of normality with Shapiro-Wilk’s to the response variable: `time_spent_on_the_page`  -- Approved\n",
        "2. Equality of variance with Levene test to the response variable: `time_spent_on_the_page`  -- Approved\n",
        "3. Samples are independent simple random samples"
      ]
    },
    {
      "cell_type": "markdown",
      "id": "b59bf12f",
      "metadata": {
        "id": "b59bf12f"
      },
      "source": [
        "#### Shapiro-Wilk's test"
      ]
    },
    {
      "cell_type": "markdown",
      "id": "4cc49133",
      "metadata": {
        "id": "4cc49133"
      },
      "source": [
        "We want to know if the variable `time_spent_on_the_page` has a normal distributio.\n",
        "\n",
        "Null hypothesis:\n",
        "\n",
        ">$H_0:$ `time_spent_on_the_pag` follows a normal distribution against\n",
        "\n",
        "Alternative hypothesis:\n",
        "\n",
        ">$H_a:$ `time_spent_on_the_page` does not follow a normal distribution"
      ]
    },
    {
      "cell_type": "code",
      "execution_count": null,
      "id": "0ed1c639",
      "metadata": {
        "id": "0ed1c639",
        "outputId": "8df40988-70c8-4850-a2af-780393bc079e",
        "colab": {
          "base_uri": "https://localhost:8080/"
        }
      },
      "outputs": [
        {
          "output_type": "stream",
          "name": "stdout",
          "text": [
            "The p-value is 0.8040016293525696\n"
          ]
        }
      ],
      "source": [
        "from scipy import stats\n",
        "\n",
        "# p-value\n",
        "w, p_value = stats.shapiro(new_lp['time_spent_on_the_page']) \n",
        "print('The p-value is', p_value)"
      ]
    },
    {
      "cell_type": "markdown",
      "id": "91951f0e",
      "metadata": {
        "id": "91951f0e"
      },
      "source": [
        "Since the p_value is > 0.05, we cannot reject the null hypothesis. We do not have enough statistical evidence to say that the variable `time_spent_on_the_page` does not follow a normal distribution.\n"
      ]
    },
    {
      "cell_type": "markdown",
      "id": "85030a3c",
      "metadata": {
        "id": "85030a3c"
      },
      "source": [
        "#### Levene's test"
      ]
    },
    {
      "cell_type": "markdown",
      "id": "6587048d",
      "metadata": {
        "id": "6587048d"
      },
      "source": [
        "We wanto to check equality of variances between the groups.\n",
        "\n",
        "Null hypothesis:\n",
        "\n",
        ">$H_0$: All the population variances are equal\n",
        "\n",
        "Alternative hypothesis\n",
        "\n",
        ">$H_a$: At least one variance is different from the rest"
      ]
    },
    {
      "cell_type": "code",
      "execution_count": null,
      "id": "580bbeb2",
      "metadata": {
        "id": "580bbeb2",
        "outputId": "4f29add1-148a-4dbf-bec7-3f3bb1fa7072",
        "colab": {
          "base_uri": "https://localhost:8080/"
        }
      },
      "outputs": [
        {
          "output_type": "stream",
          "name": "stdout",
          "text": [
            "The p-value is 0.46711357711340173\n"
          ]
        }
      ],
      "source": [
        "from scipy.stats import levene\n",
        "statistic, p_value = levene( new_lp['time_spent_on_the_page'][new_lp['language_preferred']==\"Spanish\"], \n",
        "                                   new_lp['time_spent_on_the_page'][new_lp['language_preferred']==\"English\"], \n",
        "                                   new_lp['time_spent_on_the_page'][new_lp['language_preferred']==\"French\"])\n",
        "# find the p-value\n",
        "print('The p-value is', p_value)"
      ]
    },
    {
      "cell_type": "markdown",
      "id": "2fce3484",
      "metadata": {
        "id": "2fce3484"
      },
      "source": [
        "Since the p_value is > 0.05, we cannot reject the null hypothesis. We do not have enough statistical evidence to say there is no homogenity of variances."
      ]
    },
    {
      "cell_type": "markdown",
      "id": "df40f53a",
      "metadata": {
        "id": "df40f53a"
      },
      "source": [
        "### Step 5: Calculate the p-value"
      ]
    },
    {
      "cell_type": "code",
      "execution_count": null,
      "id": "ad3a5887",
      "metadata": {
        "id": "ad3a5887",
        "outputId": "1d0d0c9e-1c73-45ac-fdb7-007dac54170a",
        "colab": {
          "base_uri": "https://localhost:8080/"
        }
      },
      "outputs": [
        {
          "output_type": "stream",
          "name": "stdout",
          "text": [
            "The p-value is 0.950753956878039\n"
          ]
        }
      ],
      "source": [
        "from scipy.stats import f_oneway\n",
        "\n",
        "# perform one-way anova test\n",
        "test_stat, p_value = f_oneway(new_lp.loc[df['language_preferred'] == 'Spanish','time_spent_on_the_page'],\n",
        "                              new_lp.loc[df['language_preferred'] == 'English','time_spent_on_the_page'],\n",
        "                              new_lp.loc[df['language_preferred'] == 'French','time_spent_on_the_page'])\n",
        "print('The p-value is ' + str(p_value))"
      ]
    },
    {
      "cell_type": "markdown",
      "id": "9b14e109",
      "metadata": {
        "id": "9b14e109"
      },
      "source": [
        "### Step 6: Compare the p-value with $\\alpha$"
      ]
    },
    {
      "cell_type": "code",
      "execution_count": null,
      "id": "6a0a9c01",
      "metadata": {
        "id": "6a0a9c01",
        "outputId": "aa4780c9-c527-49d0-e4a0-7cc15e9a3aba",
        "colab": {
          "base_uri": "https://localhost:8080/"
        }
      },
      "outputs": [
        {
          "output_type": "stream",
          "name": "stdout",
          "text": [
            "As the p-value 0.950753956878039 is greater than the level of significance, we fail to reject the null hypothesis.\n"
          ]
        }
      ],
      "source": [
        "if p_value < 0.05:\n",
        "    print(f'As the p-value {p_value} is less than the level of significance, we reject the null hypothesis.')\n",
        "else:\n",
        "    print(f'As the p-value {p_value} is greater than the level of significance, we fail to reject the null hypothesis.')"
      ]
    },
    {
      "cell_type": "markdown",
      "id": "187fa39e",
      "metadata": {
        "id": "187fa39e"
      },
      "source": [
        "### Step 7:  Draw inference"
      ]
    },
    {
      "cell_type": "markdown",
      "id": "094faa8d",
      "metadata": {
        "id": "094faa8d"
      },
      "source": [
        "Since the p_value is > 0.05, we cannot reject the null hypothesis. Hence, we do not have enough statistical evidence to say that at least one mean is different to the rest."
      ]
    },
    {
      "cell_type": "markdown",
      "id": "3acbc947",
      "metadata": {
        "id": "3acbc947"
      },
      "source": [
        "## Conclusion and Business Recommendations"
      ]
    },
    {
      "cell_type": "markdown",
      "id": "742ca950",
      "metadata": {
        "id": "742ca950"
      },
      "source": [
        "#### Conclusions:\n",
        "\n",
        "- From EDA:\n",
        "  - Users are spending more time on the new landing page than the old one.\n",
        "  -There is a greater conversion rate on the new landing page than with the old landing page.\n",
        "  - Prefered language count is the same for treatment and control group.\n",
        "  \n",
        "  \n",
        "- Testing: \n",
        "  - There is enough statistical evidence (p-value of 0.00013 at 5% level of significance) to conclude that users are spending more time on the new landing page than the old landing page.\n",
        "  - There is enough statistical evidence (p-value of 0.008 at 5% level of significance) to conclude that the converting rate is greater with the new landing page.\n",
        "  - There is not enough stastistical evidence (p-value of 0.2129 at 5% level of significance)  to  conclude that convertion and preferred language are dependent of each other. \n",
        "  - There is not enough stastistical evidence (p-value of 0.95 at 5% level of significance)  to  conclude that for the new landing page, at least one engagement time mean for  preferred languages is different from the others.\n",
        "  \n",
        "\n",
        "#### Business Recomendation:\n",
        "\n",
        "The new landing page is not increasing the maximum time spent on it, rather than reducing the mínimum time spent on the landing page from 19 seconds to 1.65 minutes. However, it has statistically proven, with a p-value of 0.008 at 5% level of significance, the increase in converting ratio, and statistically proven with a p-value of 0.00013 at 5% level of significance,that the mean engagement time of the new landing page is higher than with the old landing page. \n",
        "\n",
        "The recommendation is to focus on improving the landing page specifically in terms of the outline & recommended content since engagement time spent on the page converts to subscriptions. Focusing on language preference has no impact on users' conversion and that has been statistically proven with a p-value of 0.2129 at 5% level of significance.\n",
        "\n",
        "¿Can the conversion rate be higher? ¿What is the median engagement time that drives a user to convert?\n",
        "\n",
        "It would be also interesting to analyze the “type” of news that engage the most and apply engagement strategies through them and gain subscriptions.\n"
      ]
    },
    {
      "cell_type": "markdown",
      "id": "U0dAd4i0iCHo",
      "metadata": {
        "id": "U0dAd4i0iCHo"
      },
      "source": [
        "___"
      ]
    }
  ],
  "metadata": {
    "colab": {
      "collapsed_sections": [
        "a6a3d218",
        "6970dd99",
        "9d75cfa2",
        "68f3b2c9",
        "fad2de2f",
        "27906576",
        "e5fdf0c8",
        "56b3dafd",
        "c7ee4907",
        "3f58c9a7",
        "5fed2eac",
        "f5c5258d",
        "359b12f8",
        "d9affc84",
        "353e9d24",
        "d49bfa2d",
        "8d585a90",
        "3acbc947"
      ],
      "provenance": [],
      "include_colab_link": true
    },
    "kernelspec": {
      "display_name": "Python 3 (ipykernel)",
      "language": "python",
      "name": "python3"
    },
    "language_info": {
      "codemirror_mode": {
        "name": "ipython",
        "version": 3
      },
      "file_extension": ".py",
      "mimetype": "text/x-python",
      "name": "python",
      "nbconvert_exporter": "python",
      "pygments_lexer": "ipython3",
      "version": "3.9.7"
    }
  },
  "nbformat": 4,
  "nbformat_minor": 5
}